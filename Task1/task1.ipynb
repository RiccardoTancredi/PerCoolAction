{
 "cells": [
  {
   "cell_type": "code",
   "execution_count": null,
   "metadata": {
    "vscode": {
     "languageId": "r"
    }
   },
   "outputs": [],
   "source": [
    "library(igraph)\n",
    "library(repr)\n",
    "source(\"func.r\")"
   ]
  },
  {
   "cell_type": "code",
   "execution_count": null,
   "metadata": {
    "vscode": {
     "languageId": "r"
    }
   },
   "outputs": [],
   "source": [
    "N <- 1000\n",
    "PARAM <-  2\n",
    "\n",
    "# model <- \"erdos\"\n",
    "# graph <- get_graph(model = model, only_bcc = T, add_spins = T, param1 = PARAM, layout_design = T)\n",
    "\n",
    "graph = get_scalefree_with_constraint(N, PARAM, 2)\n",
    "graph$layout_design <- layout_nicely(graph)\n",
    "graph$spins <- generate_spins(vcount(graph))\n",
    "\n",
    "\n",
    "vcount(graph)\n",
    "# plot_graph(graph)\n",
    "# bcc_size <- get_bcc_size(graph)\n",
    "# cat(\"Size of the largest connected component:\", bcc_size, \"\\n\")\n"
   ]
  },
  {
   "cell_type": "code",
   "execution_count": null,
   "metadata": {
    "vscode": {
     "languageId": "r"
    }
   },
   "outputs": [],
   "source": [
    "plot_graph(graph)"
   ]
  },
  {
   "cell_type": "code",
   "execution_count": null,
   "metadata": {
    "vscode": {
     "languageId": "r"
    }
   },
   "outputs": [],
   "source": [
    "cat(\"Avg degree:\", get_avg_degree(graph), \"\\n\")\n",
    "cat(\"Second moment:\", get_moment_2(graph), \"\\n\")\n",
    "cat(\"Fourth moment:\", get_moment_4(graph), \"\\n\")\n",
    "cat(\"TC:\", get_Tc(graph), \"\\n\")"
   ]
  },
  {
   "cell_type": "code",
   "execution_count": null,
   "metadata": {
    "vscode": {
     "languageId": "r"
    }
   },
   "outputs": [],
   "source": [
    "# use this: degree_distribution(graph)\n",
    "node_degrees <- degree(graph)\n",
    "xvalues <- (0 - 0.5):(max(node_degrees) + 0.5)\n",
    "\n",
    "options(repr.plot.width = 16, repr.plot.height = 8)\n",
    "par(mfrow = c(1, 2))\n",
    "hist(node_degrees,\n",
    "     breaks = xvalues,\n",
    "     main = \"Histogram of Integer Values\",\n",
    "     xlab = \"Integers\",\n",
    "     ylab = \"Counts\",\n",
    "     col = \"blue\",\n",
    "     border = \"black\"\n",
    ")\n",
    "barplot(degree_distribution(graph)*N,\n",
    "     names.arg = seq(0, length(degree_distribution(graph)) - 1),\n",
    "     main = \"Histogram of Integer Values\",\n",
    "     xlab = \"Integers\",\n",
    "     ylab = \"Frequency\",\n",
    "     col = \"blue\",\n",
    "     border = \"black\"\n",
    ")\n",
    "lines(1:100, (1:100)^-PARAM)"
   ]
  },
  {
   "cell_type": "code",
   "execution_count": null,
   "metadata": {
    "vscode": {
     "languageId": "r"
    }
   },
   "outputs": [],
   "source": [
    "graph = simulate_ising(graph, kbt = 1.8, nstep = 50000)"
   ]
  },
  {
   "cell_type": "code",
   "execution_count": null,
   "metadata": {
    "vscode": {
     "languageId": "r"
    }
   },
   "outputs": [],
   "source": [
    "options(repr.plot.width = 28, repr.plot.height = 20)\n",
    "par(mfrow = c(2, 3))\n",
    "plot_graph(graph, set_size=F)\n",
    "plot(graph$energies)\n",
    "plot(abs(graph$magnetizations))\n",
    "plot(graph$susceptibility)\n",
    "# plot(graph$heat)\n"
   ]
  },
  {
   "cell_type": "code",
   "execution_count": null,
   "metadata": {
    "vscode": {
     "languageId": "r"
    }
   },
   "outputs": [],
   "source": [
    "paramsss = c(1)\n",
    "for (i in 1:length(paramsss)) {\n",
    "    N = 3000\n",
    "    NSTEP <- 10000\n",
    "    PERC <- 0.02\n",
    "\n",
    "    # graph <- get_graph(model = model, only_bcc = T, add_spins = F, param1 = PARAM, layout_design = F)\n",
    "    # graph <- delete_vertices(graph, which(degree(graph) == 1))\n",
    "    # graph$layout_design <- layout_nicely(graph)\n",
    "    # graph$spins <- generate_spins(vcount(graph))\n",
    "\n",
    "    # model = \"erdos\"\n",
    "    # PARAM = paramsss[i]\n",
    "    # graph <- get_graph(model = model, only_bcc = T, add_spins = T, param1 = PARAM, layout_design = T)\n",
    "    graph <- get_scalefree_with_constraint(N, PARAM, 2)\n",
    "    graph$layout_design <- layout_nicely(graph)\n",
    "    graph$spins <- generate_spins(vcount(graph))\n",
    "\n",
    "    Tc <- get_Tc(graph)\n",
    "    # kbts <- c(seq(Tc + 2, Tc + 0.35 + 0.1, -0.1), seq(Tc + 0.35, Tc - 0.35, -0.05), seq(Tc - 0.35 - 0.05, 0.01, -0.15))\n",
    "    kbts <- c(seq(Tc + 0.50, Tc + 0.30 + 0.1, -0.1), seq(Tc + 0.3, Tc - 0.3, -0.05), seq(Tc - 0.3 - 0.15, max(Tc - 1, 0), -0.15))\n",
    "\n",
    "\n",
    "\n",
    "    # kbts <- seq(0.1, 10, 0.33)\n",
    "    cat(\"Ci sono \", length(kbts), \" iterazioni di temperatura\\n\")\n",
    "\n",
    "    cat(\"Inizio Procedura\\n\")\n",
    "    graph <- multi_T_ising(NSTEP, kbts, graph, PERC)\n",
    "    avgs_en <- graph$avgs_en\n",
    "    avgs_m <- graph$avgs_m\n",
    "    avgs_sus <- graph$avg_sus\n",
    "    avgs_heat <- graph$avg_heat\n",
    "    kbts <- graph$kbts\n",
    "\n",
    "    formatted_datetime <- format(Sys.time(), format = \"%Y_%m_%d_%H_%M_%S\")\n",
    "    filename <- paste(\"N\", graph$nickname, PARAM, \"_N\", N, \"_Step\", NSTEP, \"_\", formatted_datetime, sep = \"\")\n",
    "    filename\n",
    "\n",
    "    save(graph, avgs_en, avgs_m, avgs_sus, avgs_heat, kbts, file = paste(filename, \".RData\", sep = \"\"))\n",
    "    # gc()\n",
    "}\n"
   ]
  },
  {
   "cell_type": "code",
   "execution_count": null,
   "metadata": {
    "vscode": {
     "languageId": "r"
    }
   },
   "outputs": [],
   "source": [
    "\n",
    "\n",
    "# options(repr.plot.width = 14, repr.plot.height = 10)\n",
    "# png(file = paste(filename, \"_enT.png\", sep = \"\"))\n",
    "# plot(kbts, avgs_en)\n",
    "# dev.off()\n",
    "\n",
    "# options(repr.plot.width = 14, repr.plot.height = 10)\n",
    "# png(file = paste(filename, \"_mT.png\", sep = \"\"))\n",
    "# plot(kbts, avgs_m)\n",
    "# dev.off()\n",
    "\n",
    "# options(repr.plot.width = 14, repr.plot.height = 10)\n",
    "# png(file = paste(filename, \"_enall.png\", sep = \"\"))\n",
    "# plot(as.vector(t(all_energies)))\n",
    "# dev.off()\n",
    "\n",
    "# options(repr.plot.width = 14, repr.plot.height = 10)\n",
    "# png(file = paste(filename, \"_mall.png\", sep = \"\"))\n",
    "# plot(as.vector(t(all_magnets)))\n",
    "# dev.off()\n",
    "\n",
    "# options(repr.plot.width = 28, repr.plot.height = 10)\n",
    "# par(mfrow = c(1, 2))\n",
    "# plot(kbts, avgs_en)\n",
    "# plot(kbts, abs(avgs_m))\n",
    "\n",
    "# options(repr.plot.width = 28, repr.plot.height = 10)\n",
    "# par(mfrow = c(1, 2))\n",
    "# plot(as.vector(t(all_energies)))\n",
    "# plot(as.vector(t(all_magnets)))\n"
   ]
  },
  {
   "cell_type": "code",
   "execution_count": null,
   "metadata": {
    "vscode": {
     "languageId": "r"
    }
   },
   "outputs": [],
   "source": [
    "\n",
    "Tc <- get_Tc(graph)\n",
    "x <- seq(0, max(kbts), 0.001)\n",
    "xc <- seq(Tc - 1, Tc + 1, 0.01)\n",
    "\n",
    "title <- graph$name\n",
    "# y <- xc\n",
    "# if (graph$nickname == \"sf\") {\n",
    "#     title <- paste(graph$name, \"gamma:\", graph$param, \"m0:\", graph$m0)\n",
    "#     param <- graph$param\n",
    "#     if (param > 2 && param < 3) {\n",
    "#         y <- xc^(-1 / (3 - param))\n",
    "#     } else if (param == 3) {\n",
    "#         y <- exp(-2 * xc / get_avg_degree(graph))\n",
    "#     } else if (param > 3 && param < 5) {\n",
    "#         tau <- 1 - xc / Tc\n",
    "#         y <- tau^(1 / (param - 3))\n",
    "#     } else if (param == 5) {\n",
    "#         tau <- 1 - xc / Tc\n",
    "#         y <- (tau^(1 / 2)) / ((log(tau^-1))^(1 / 2)) # check if the ^-1 is the arg or the log\n",
    "#     } else if (param > 5) {\n",
    "#         tau <- 1 - xc / Tc\n",
    "#         y <- tau^(1 / 2)\n",
    "#     } else {\n",
    "#         cat(\"Parametro non valido: \", param, \" per il modello di Barabasi Albert (scalefree)\\n\")\n",
    "        \n",
    "#     }\n",
    "# }\n",
    "\n",
    "options(repr.plot.width = 10, repr.plot.height = 8)\n",
    "plot(kbts, abs(graph$avgs_m)/N,\n",
    "    main = title, xlab = \"Kb * T\", ylab = \"Magnetization\", col = \"blue\", pch = 19,\n",
    "    # xlim = c(0, 4), ylim=c(0, 1)\n",
    ")\n",
    "# lines(xc, y, lwd = 2)\n",
    "abline(v = Tc, col = \"red\", lwd = 2)\n",
    "legend(\n",
    "    # x = \"topright\", \n",
    "    x= 2.8, y = 1,\n",
    "    legend = c(\"Computed Value\", \"Theoretical Critical Temperature Tc\", \"Expected Critical Behavior around Tc\"),\n",
    "    col = c(\"blue\", \"red\", \"black\"),\n",
    "    pch = c(19, NA, NA), lwd = c(0, 2, 2), lty = c(0, 1, 1)\n",
    ")\n"
   ]
  },
  {
   "cell_type": "code",
   "execution_count": null,
   "metadata": {
    "vscode": {
     "languageId": "r"
    }
   },
   "outputs": [],
   "source": [
    "Tc <- get_Tc(graph)\n",
    "x <- seq(0, max(kbts), 0.001)\n",
    "\n",
    "\n",
    "options(repr.plot.width = 10, repr.plot.height = 8)\n",
    "plot(kbts[2:length(kbts)], graph$avg_sus[2:length(kbts)],\n",
    "    col = \"blue\", pch = 19,\n",
    "    # xlim = c(0, 4), ylim=c(0, 1)\n",
    ")\n",
    "# lines(kbts, graph$, lwd = 2)\n",
    "abline(v = Tc, col = \"red\", lwd = 2)\n"
   ]
  }
 ],
 "metadata": {
  "kernelspec": {
   "display_name": "R",
   "language": "R",
   "name": "ir"
  },
  "language_info": {
   "codemirror_mode": "r",
   "file_extension": ".r",
   "mimetype": "text/x-r-source",
   "name": "R",
   "pygments_lexer": "r",
   "version": "4.3.1"
  },
  "orig_nbformat": 4
 },
 "nbformat": 4,
 "nbformat_minor": 2
}
