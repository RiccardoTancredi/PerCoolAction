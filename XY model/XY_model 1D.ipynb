{
 "cells": [
  {
   "cell_type": "code",
   "execution_count": 1,
   "metadata": {
    "vscode": {
     "languageId": "r"
    }
   },
   "outputs": [
    {
     "name": "stderr",
     "output_type": "stream",
     "text": [
      "Warning message:\n",
      "\"il pacchetto 'igraph' è stato creato con R versione 4.2.3\"\n"
     ]
    }
   ],
   "source": [
    "library(\"igraph\") |> suppressPackageStartupMessages()"
   ]
  },
  {
   "cell_type": "markdown",
   "metadata": {},
   "source": [
    "# Watts Strogatz - Small world network\n",
    "We start by investigating the `XY - model` on the Watts strogats network:\n",
    "```python\n",
    "dim\t\n",
    "Integer constant, the dimension of the starting lattice.\n",
    "\n",
    "size\t\n",
    "Integer constant, the size of the lattice along each dimension.\n",
    "\n",
    "nei\t\n",
    "Integer constant, the neighborhood within which the vertices of the lattice will be connected.\n",
    "\n",
    "p\t\n",
    "Real constant between zero and one, the rewiring probability.\n",
    "\n",
    "loops\t\n",
    "Logical scalar, whether loops edges are allowed in the generated graph.\n",
    "\n",
    "multiple\t\n",
    "Logical scalar, whether multiple edges are allowed int the generated graph.\n",
    "```"
   ]
  },
  {
   "cell_type": "code",
   "execution_count": 2,
   "metadata": {
    "vscode": {
     "languageId": "r"
    }
   },
   "outputs": [
    {
     "data": {
      "image/png": "[encoded data removed]",
      "text/plain": [
       "Plot with title \"\""
      ]
     },
     "metadata": {
      "image/png": {
       "height": 420,
       "width": 420
      }
     },
     "output_type": "display_data"
    }
   ],
   "source": [
    "dim <- 1 # 1D\n",
    "size <- 100\n",
    "nei <- 3\n",
    "p <- 0.1\n",
    "g <- sample_smallworld(dim = dim, size = size, nei = nei, p = p, loops = FALSE, multiple = FALSE)\n",
    "plot(g, vertex.color=\"steelblue\", edge.curved=0.1, edge.color=\"gray80\", vertex.label=NA, vertex.size=7)"
   ]
  },
  {
   "cell_type": "code",
   "execution_count": 3,
   "metadata": {
    "vscode": {
     "languageId": "r"
    }
   },
   "outputs": [
    {
     "data": {
      "text/plain": [
       "100 x 100 sparse Matrix of class \"dgCMatrix\"\n",
       "                                                                              \n",
       "  [1,] . 1 1 1 . . . . . . . . . . . . . . . . . . . . . . . . . . . . . . . .\n",
       "  [2,] 1 . 1 . . . . . . . . . . . . . . . . . . . . . . . . . . . . . . . . .\n",
       "  [3,] 1 1 . . . 1 . . . . . . . . . . . . . . . . . . . . . . . . . . . . . .\n",
       "  [4,] 1 . . . 1 1 . . . . . . . . . . . . . . . . . . . . . . . . 1 . . . . .\n",
       "  [5,] . . . 1 . 1 1 1 . . . . . . . . . . . . . . 1 . . . . . . . . . . . . .\n",
       "  [6,] . . 1 1 1 . 1 1 . . . . . . . . . . . . . . . . . . . . . . . . . . . .\n",
       "  [7,] . . . . 1 1 . 1 1 1 . . . . . . . . . . . . . . . . . . . . . . . . . .\n",
       "  [8,] . . . . 1 1 1 . . 1 . . . . . . . . . . . . . . . . . . . . . . . . . .\n",
       "  [9,] . . . . . . 1 . . 1 . . . . . . . . . . 1 . . . . . . . . . . . . . . .\n",
       " [10,] . . . . . . 1 1 1 . 1 1 1 . . . . . . . . . . . . . . . . . . . . . . .\n",
       " [11,] . . . . . . . . . 1 . 1 1 1 . . . . . . . . . . . . . . . . . . . . . .\n",
       " [12,] . . . . . . . . . 1 1 . 1 1 1 . . . 1 . . . . . . . . . . . . . . . . .\n",
       " [13,] . . . . . . . . . 1 1 1 . 1 . 1 . . . . . . . . . . . . . . . . . . . .\n",
       " [14,] . . . . . . . . . . 1 1 1 . . 1 1 . . . . . . . . . . . . . . . . . . .\n",
       " [15,] . . . . . . . . . . . 1 . . . 1 1 1 . . . . . . . . . . . . . . . . . .\n",
       " [16,] . . . . . . . . . . . . 1 1 1 . 1 1 1 . . . . . . . . . . . . . . . . .\n",
       " [17,] . . . . . . . . . . . . . 1 1 1 . 1 . 1 . . . . . . . . . . . . . . . .\n",
       " [18,] . . . . . . . . . . . . . . 1 1 1 . 1 1 1 . . . . . . . . . . . . . 1 .\n",
       " [19,] . . . . . . . . . . . 1 . . . 1 . 1 . . 1 1 . . . . . . . . . . . . . .\n",
       " [20,] . . . . . . . . . . . . . . . . 1 1 . . . 1 . . . . . . . . . 1 . . . .\n",
       " [21,] . . . . . . . . 1 . . . . . . . . 1 1 . . 1 1 1 . . . . . . . . . . . .\n",
       " [22,] . . . . . . . . . . . . . . . . . . 1 1 1 . . . 1 . . . . . . . . . . .\n",
       " [23,] . . . . 1 . . . . . . . . . . . . . . . 1 . . 1 1 . . . . . 1 1 . . . .\n",
       " [24,] . . . . . . . . . . . . . . . . . . . . 1 . 1 . 1 1 1 . . . . . . . . .\n",
       " [25,] . . . . . . . . . . . . . . . . . . . . . 1 1 1 . 1 1 . . . . . . . . .\n",
       " [26,] . . . . . . . . . . . . . . . . . . . . . . . 1 1 . 1 1 . . . . . . . .\n",
       " [27,] . . . . . . . . . . . . . . . . . . . . . . . 1 1 1 . 1 1 1 . . . . . .\n",
       " [28,] . . . . . . . . . . . . . . . . . . . . . . . . . 1 1 . 1 . 1 . . . . .\n",
       " [29,] . . . . . . . . . . . . . . . . . . . . . . . . . . 1 1 . . 1 1 . . . .\n",
       " [30,] . . . . . . . . . . . . . . . . . . . . . . . . . . 1 . . . 1 . 1 . . .\n",
       " [31,] . . . 1 . . . . . . . . . . . . . . . . . . 1 . . . . 1 1 1 . 1 1 1 . .\n",
       " [32,] . . . . . . . . . . . . . . . . . . . 1 . . 1 . . . . . 1 . 1 . 1 1 1 .\n",
       " [33,] . . . . . . . . . . . . . . . . . . . . . . . . . . . . . 1 1 1 . 1 1 .\n",
       " [34,] . . . . . . . . . . . . . . . . . . . . . . . . . . . . . . 1 1 1 . 1 1\n",
       " [35,] . . . . . . . . . . . . . . . . . 1 . . . . . . . . . . . . . 1 1 1 . 1\n",
       " [36,] . . . . . . . . . . . . . . . . . . . . . . . . . . . . . . . . . 1 1 .\n",
       " [37,] . . . . . . . . . . . . . . . . . . . . . . . . . . . . . . . . . 1 1 1\n",
       " [38,] . . . . . . . . . . . . . . . . . . . . . . . . . . . . . . . . . . . 1\n",
       " [39,] . . . . . . . . . . . . . . . . . . 1 . . . . . . . . . . . . . . . . 1\n",
       " [40,] . . . . . . . . . . . . . . . . . . . . . . . . . . . . . . . . . . . .\n",
       " [41,] . . . . . . . . . . . . . . . . . . . . . . . . . . . . . . . . . . . .\n",
       " [42,] . . . . . . . . . . . . . . . . 1 . . . . . . . . . . . . . . . . . . .\n",
       " [43,] . . . . . . . . . . . . . . . . . . . . . . . . . . . . . . . . . . . .\n",
       " [44,] . . . . . . . . . . . . . . . . . . . . . . . . . . . . . . . . . . . .\n",
       " [45,] . . . . . . . . . . . . . . . . . . . . . . . . . . . . . . . . . . . .\n",
       " [46,] . . . . . . . . . . . . . . . . . . . . . . . . . . . . . . . . . . . .\n",
       " [47,] . . . . . . . . . . . . . . . . . . . . . . . . . . . . . . . . . . . .\n",
       " [48,] . . . . . . . . . . . . . . . . . . . 1 . . . . . . . . . . . . . . . .\n",
       " [49,] . . . . . . . . . . . . . . . . . . . . . . . . . . . 1 . . . . . . . .\n",
       " [50,] . . . . . . . . . . . . . . . . . . . . . . . . . . . . . . . . . . . .\n",
       " [51,] . 1 . . . . . . . . . . . . . . . . . . . . . . . . . . . . . . . . . .\n",
       " [52,] . . . . . . . . . . 1 . . . . . . . . . . . . . . . . . . . . . . . . .\n",
       " [53,] . . . . . . . . . . . . . . . . . . . . . . . . . . . . . . . . . . . .\n",
       " [54,] . . . . 1 . . . . . . . . . . . . . . . . . . . . . . . . . . . . . . .\n",
       " [55,] . . . . . . . . . . . . 1 . . . . . . . . . 1 . . . . . . . . . . . . .\n",
       " [56,] . . . . . . 1 . . . . . . . . . . . . . . . . . . . . . 1 . . . . . . .\n",
       " [57,] . . . . . . . . . . . . . . . . . . . . . . . . . . . . . . . . . . . .\n",
       " [58,] . . . . . . . . . . . . . . . . . . . . . . . . . . . . . . . . . . . 1\n",
       " [59,] . . . . . 1 . . 1 . . . . . . . . . . . . . . . . . . . . . . . . . . .\n",
       " [60,] . . . . . . . . . . . . . . . . . . . . . . . . . . . . . . . . . . . .\n",
       " [61,] . . . . . . . . . . . . . . . . . . . . . . . . . . . . . . . . . . . .\n",
       " [62,] . . . . . . . . . . . . . . . . . . . . . . . . . . . . . . . . . . . .\n",
       " [63,] . . . . . . . . . . . 1 . . . . . . . . . . . . . . . . . . . . . . . .\n",
       " [64,] . . . . . . . . . . . . . . . . . . . . . . . . . . . . . . . . . . . .\n",
       " [65,] . . . . . . . . . . . . . . . . . . . . . . . . . . 1 . . . . . . . . .\n",
       " [66,] . . . . . . . . . . . . . . . . . . . . . . . . . . . . . . . . . . . .\n",
       " [67,] . . . . . . . . . . . . . . . . . . . . . . . . . . . . . . . . . . . 1\n",
       " [68,] . . . . . . . . . . . . . . . . . . . . . . . . . . . . . . . . . . . .\n",
       " [69,] . . . . . . . . . . . . . . . . . . . . . . . . . . . . . . . . . . . .\n",
       " [70,] . . 1 . . . . . . . . . . . . . . . . . . . . . . . . . . . . . . . . .\n",
       " [71,] . . . . . . . . . . . . . . . . . 1 . . . . 1 1 . . . . . . . . . . . .\n",
       " [72,] . . . . . . . . . . . . . . . . . . . . . . . . . . . . . . . . . . . .\n",
       " [73,] . . . . . . . . . . . . . . . . . . . . . . . . . . . . . . . . . . . .\n",
       " [74,] . . . . . . . . . . . . 1 . 1 . . . . . . . . . . . . . . . . . . . . .\n",
       " [75,] . . . . . . . . . . . . . . . . . . . . . . . . . . . . 1 . . . . . . .\n",
       " [76,] . . . . . . . . . . . 1 . . . . . . . . . . . . . . . . . . . . . . . .\n",
       " [77,] . . . . . . . . . . . . . . . . . . . . . . . . . . . . . . . . . . . .\n",
       " [78,] . . . . . . . . . . . . . . . . . . . . . . . . . . . . . . . . . . . .\n",
       " [79,] . . . . 1 . . 1 . . . . . . . . . . . . . . . . . . . . . . . . . . . .\n",
       " [80,] . 1 . . . . . . . . . . . . . . . . . . . . . . . . . . . . . . . . . .\n",
       " [81,] . . . . . . . . 1 . . . . . . . . . . . . . . . . . . . . . . . . . . .\n",
       " [82,] . . . . . . . . . . . . . . . . . . . . . . 1 . . . . . . . . . . . . .\n",
       " [83,] . . . . . . . . . . . . . . . . . . . . . . . . . . . . . . . . . . . .\n",
       " [84,] . . . . . . . . . . . . . . . . . . . . . . . . . . . . . . . . . . . .\n",
       " [85,] . . . . . . . . . . . . . . . . . . . . . . . . . . . . . . . . . . . .\n",
       " [86,] . . . . . . . . . . . . . . . . . . . . . . . . . . . . . . . . . . . .\n",
       " [87,] . . . . . . . . . . . . . . . . . . . . . . 1 . . . . . . 1 . . . . . .\n",
       " [88,] . . . . . . . . . . . . . . . . . . . . . . . . 1 . . . . . . . . . . .\n",
       " [89,] . . . . . . . . . . . . . . . . . . . . . . . . . . . . . . . . . . . .\n",
       " [90,] . . . . . . . . . . . . . . . . . . . 1 . . . . . . . . . . . . . . . .\n",
       " [91,] . . . . . . . . . . . . . . . . . . . . . . . . . . . . . . . . . . . .\n",
       " [92,] . . . . . . . . . . . . . . . . . . . . . . . . . . . . . . . . . . . .\n",
       " [93,] . . . . . . . . . . . . . . . . . . . . . . . . . . . . . . . . . . . .\n",
       " [94,] . . . . . . . . . . . . . . . . . . . . . . . . . . . . . . . . . . . .\n",
       " [95,] . . . . . . . . . . . . . . . . . . . . . . . . . . . . . . . . . . . .\n",
       " [96,] . . . . . . . . . . . . . . . . . . . . . . . . . . . . . . . . . . . .\n",
       " [97,] . . . . . . . . . . . . . . . . . . . . . . . . . . . . . . . . . . . .\n",
       " [98,] 1 . . . . . . . . . . . . . . . . . . . . . . . . . . . . . . . . . . .\n",
       " [99,] 1 . 1 . . . 1 . . . . . . . . . . . . . . . . . . . . . . . . . . . . .\n",
       "[100,] 1 1 1 . . . . . . . . . . . . . . . . . . . . . . . . . . . . . . . . .\n",
       "                                                                              \n",
       "  [1,] . . . . . . . . . . . . . . . . . . . . . . . . . . . . . . . . . . . .\n",
       "  [2,] . . . . . . . . . . . . . . 1 . . . . . . . . . . . . . . . . . . . . .\n",
       "  [3,] . . . . . . . . . . . . . . . . . . . . . . . . . . . . . . . . . 1 . .\n",
       "  [4,] . . . . . . . . . . . . . . . . . . . . . . . . . . . . . . . . . . . .\n",
       "  [5,] . . . . . . . . . . . . . . . . . 1 . . . . . . . . . . . . . . . . . .\n",
       "  [6,] . . . . . . . . . . . . . . . . . . . . . . 1 . . . . . . . . . . . . .\n",
       "  [7,] . . . . . . . . . . . . . . . . . . . 1 . . . . . . . . . . . . . . . .\n",
       "  [8,] . . . . . . . . . . . . . . . . . . . . . . . . . . . . . . . . . . . .\n",
       "  [9,] . . . . . . . . . . . . . . . . . . . . . . 1 . . . . . . . . . . . . .\n",
       " [10,] . . . . . . . . . . . . . . . . . . . . . . . . . . . . . . . . . . . .\n",
       " [11,] . . . . . . . . . . . . . . . 1 . . . . . . . . . . . . . . . . . . . .\n",
       " [12,] . . . . . . . . . . . . . . . . . . . . . . . . . . 1 . . . . . . . . .\n",
       " [13,] . . . . . . . . . . . . . . . . . . 1 . . . . . . . . . . . . . . . . .\n",
       " [14,] . . . . . . . . . . . . . . . . . . . . . . . . . . . . . . . . . . . .\n",
       " [15,] . . . . . . . . . . . . . . . . . . . . . . . . . . . . . . . . . . . .\n",
       " [16,] . . . . . . . . . . . . . . . . . . . . . . . . . . . . . . . . . . . .\n",
       " [17,] . . . . . 1 . . . . . . . . . . . . . . . . . . . . . . . . . . . . . .\n",
       " [18,] . . . . . . . . . . . . . . . . . . . . . . . . . . . . . . . . . . 1 .\n",
       " [19,] . . 1 . . . . . . . . . . . . . . . . . . . . . . . . . . . . . . . . .\n",
       " [20,] . . . . . . . . . . . 1 . . . . . . . . . . . . . . . . . . . . . . . .\n",
       " [21,] . . . . . . . . . . . . . . . . . . . . . . . . . . . . . . . . . . . .\n",
       " [22,] . . . . . . . . . . . . . . . . . . . . . . . . . . . . . . . . . . . .\n",
       " [23,] . . . . . . . . . . . . . . . . . . 1 . . . . . . . . . . . . . . . 1 .\n",
       " [24,] . . . . . . . . . . . . . . . . . . . . . . . . . . . . . . . . . . 1 .\n",
       " [25,] . . . . . . . . . . . . . . . . . . . . . . . . . . . . . . . . . . . .\n",
       " [26,] . . . . . . . . . . . . . . . . . . . . . . . . . . . . . . . . . . . .\n",
       " [27,] . . . . . . . . . . . . . . . . . . . . . . . . . . . . 1 . . . . . . .\n",
       " [28,] . . . . . . . . . . . . 1 . . . . . . . . . . . . . . . . . . . . . . .\n",
       " [29,] . . . . . . . . . . . . . . . . . . . 1 . . . . . . . . . . . . . . . .\n",
       " [30,] . . . . . . . . . . . . . . . . . . . . . . . . . . . . . . . . . . . .\n",
       " [31,] . . . . . . . . . . . . . . . . . . . . . . . . . . . . . . . . . . . .\n",
       " [32,] . . . . . . . . . . . . . . . . . . . . . . . . . . . . . . . . . . . .\n",
       " [33,] . . . . . . . . . . . . . . . . . . . . . . . . . . . . . . . . . . . .\n",
       " [34,] 1 . . . . . . . . . . . . . . . . . . . . . . . . . . . . . . . . . . .\n",
       " [35,] 1 . . . . . . . . . . . . . . . . . . . . . . . . . . . . . . . . . . .\n",
       " [36,] 1 1 1 . . . . . . . . . . . . . . . . . . 1 . . . . . . . . 1 . . . . .\n",
       " [37,] . 1 1 . . . . . . . . . . . . . . . . . . . . . . . . . . . . . . . . .\n",
       " [38,] 1 . . 1 . . . . . . . . . . . . . . . . . . . . . . . . . . . . . . . .\n",
       " [39,] 1 . . 1 1 1 . . . . . . . . . . . . . . . . . . . . . . . . . . . . . .\n",
       " [40,] . 1 1 . 1 1 1 . . . . . . . . . . . . . . . . . . . . . . . . . . . . .\n",
       " [41,] . . 1 1 . 1 1 . . . . 1 . . . . . . . . . . . . . . . . . . . . . . . .\n",
       " [42,] . . 1 1 1 . 1 1 1 . . . . . . . . . . 1 . . . . . . . . . . . . . . . .\n",
       " [43,] . . . 1 1 1 . . 1 1 . . . . . . . . . . . . . . . . . . . . . . . . . .\n",
       " [44,] . . . . . 1 . . 1 1 1 . . . . . . . . . . . 1 . . . . . . . . . . . . .\n",
       " [45,] . . . . . 1 1 1 . 1 . 1 . . . . . . . . . . . . . . . . . . . . . . . .\n",
       " [46,] . . . . . . 1 1 1 . . 1 1 . . . . . . . . . . . . . . . . . . . . . . .\n",
       " [47,] . . . . . . . 1 . . . 1 1 1 . . . . . . . . . . . . . . . 1 . . . . . .\n",
       " [48,] . . . . 1 . . . 1 1 1 . 1 1 1 . . . . . . . . . . . . . . . . . . . . .\n",
       " [49,] . . . . . . . . . 1 1 1 . 1 . 1 . . . . . . . . . . . . . . . . . . . .\n",
       " [50,] . . . . . . . . . . 1 1 1 . 1 1 . . . . . . . . . . . . . . . . . . . .\n",
       " [51,] . . . . . . . . . . . 1 . 1 . 1 1 1 . . . . . . . . . . . . . . . . . .\n",
       " [52,] . . . . . . . . . . . . 1 1 1 . . 1 . . . . . . . . . . 1 . . . . . . .\n",
       " [53,] . . . . . . . . . . . . . . 1 . . 1 . 1 . . . . . . . . . . . . . . . .\n",
       " [54,] . . . . . . . . . . . . . . 1 1 1 . 1 . 1 . . . . . . . . . . . . . . .\n",
       " [55,] . . . . . . . . . . . . . . . . . 1 . . 1 1 . . . . . . . . . . . . . .\n",
       " [56,] . . . . . 1 . . . . . . . . . . 1 . . . 1 1 . . . . 1 . . . . . . . . .\n",
       " [57,] . . . . . . . . . . . . . . . . . 1 1 1 . 1 1 1 . . . . . . . . . . . .\n",
       " [58,] . . . . . . . . . . . . . . . . . . 1 1 1 . 1 1 1 . . . . . . . . . . .\n",
       " [59,] . . . . . . . 1 . . . . . . . . . . . . 1 1 . 1 1 1 . . . . . . . . . .\n",
       " [60,] . . . . . . . . . . . . . . . . . . . . 1 1 1 . 1 1 1 . . . . . . 1 . .\n",
       " [61,] . . . . . . . . . . . . . . . . . . . . . 1 1 1 . 1 1 1 . . . . . . . .\n",
       " [62,] . . . . . . . . . . . . . . . . . . . . . . 1 1 1 . . 1 . . . . . . . .\n",
       " [63,] . . . . . . . . . . . . . . . . . . . 1 . . . 1 1 . . . 1 1 . . . . . .\n",
       " [64,] . . . . . . . . . . . . . . . . . . . . . . . . 1 1 . . 1 1 . . . . . .\n",
       " [65,] . . . . . . . . . . . . . . . 1 . . . . . . . . . . 1 1 . 1 1 1 . . . .\n",
       " [66,] . . . . . . . . . . 1 . . . . . . . . . . . . . . . 1 1 1 . 1 1 1 . . .\n",
       " [67,] . . . . . . . . . . . . . . . . . . . . . . . . . . . . 1 1 . 1 1 1 . .\n",
       " [68,] . . . . . . . . . . . . . . . . . . . . . . . . . . . . 1 1 1 . . 1 . .\n",
       " [69,] . . . . . . . . . . . . . . . . . . . . . . . . . . . . . 1 1 . . . . 1\n",
       " [70,] . . . . . . . . . . . . . . . . . . . . . . . 1 . . . . . . 1 1 . . . 1\n",
       " [71,] . . . . . . . . . . . . . . . . . . . . . . . . . . . . . . . . . . . 1\n",
       " [72,] . . . . . . . . . . . . . . . . . . . . . . . . . . . . . . . . 1 1 1 .\n",
       " [73,] . . . . . . . . . . . . . . . . . . . . . . . . . . . . . . . . . 1 1 1\n",
       " [74,] . . . . . . . . . . . . . . . . . . . . . . . . . . . . . . . . . . . 1\n",
       " [75,] . . . . . 1 . . . . . . . . . . . . . . . . . . . . . . . . . . . . . 1\n",
       " [76,] . . . . . . . . . . . . . . . . . . . . . . . . . . . . . . . . . . . .\n",
       " [77,] . . . . . . . . . . . . . . . . . . . . . . . . . . . . . . . . . . . .\n",
       " [78,] . . . . . . . . . . . . . . . . . . . . . . . . . . . . . . . . . . . .\n",
       " [79,] . . . . . . . . . . 1 . . . . . . . . . . . . . . . . . . . . . . . . .\n",
       " [80,] . . . . . . . . . . . . . . . . . . . . . . . . . . . . . . . . . . . .\n",
       " [81,] . . . . . . . . . . . . . . . . . . . . . . . . . . . . . . . . . . . .\n",
       " [82,] . . . . . . . . . . . . . . . . . . . . . . . . . . . . . . . . . . . .\n",
       " [83,] . . . . . . . . . . . . . . . . . . . . . . . . . . . . . . . . . . . .\n",
       " [84,] . . . . . . . . . . . . . . . . . . . . . . . . . . . . . . . . . . . .\n",
       " [85,] . . . . . . . . . . . . . . . . . . . . . . . . . . . . . . . . . . . .\n",
       " [86,] . . . . . . . . . . . . . . . . . . . . . . . . . . . . . . . . . . . .\n",
       " [87,] . . . . . . . . . . . . . . . . . . . . . . . . . . . . . . . . . . . .\n",
       " [88,] 1 . . . . . . . . . . . . . . . . . . . . . . . . . . . . . . . . . . .\n",
       " [89,] . . . . . . . . . . . . . . . . . . . . . . . . . . . . . . . . . . . .\n",
       " [90,] . . . . . . . . . . . . . . . . . . . . . . . . . . . . . . . . . . . .\n",
       " [91,] . . . . . . . . . . . . . . 1 . . . . . . . . . . . . . . . . . . . . .\n",
       " [92,] . . . . . . . . . . . . . 1 . . . . . . . . . . . . . . . . . . . . . .\n",
       " [93,] . . . . . . . . . . . . . . . . . . . . . . . . . . . . . . . . . . . .\n",
       " [94,] . . . . . . . . . . . . . . . . . . . . . . . . . . . . . . . . . . . .\n",
       " [95,] . . . . . . . . . . . . . . . . . . . . . . . . . . . . . . . . . . . .\n",
       " [96,] . . . . . . . . . . . . . . . . . . . . . . . . . . . . . . . . . . . .\n",
       " [97,] . . . . . . . . . . . . . . . . . . . . . 1 . . . . . . . . . . 1 1 . .\n",
       " [98,] . . . . . . . . . . . . . . . . . . . . . . . . . . . . . . . . . . . .\n",
       " [99,] . . . . . . . . . . . . . . . . . . . . . . . . . . . . . . . . . . . .\n",
       "[100,] . . . . 1 . . . . . . . . . . . . . . . . . . . 1 . . . . . . . . . . .\n",
       "                                                              \n",
       "  [1,] . . . . . . . . . . . . . . . . . . . . . . . . . 1 1 1\n",
       "  [2,] . . . . . . . 1 . . . . . . . . . . . . . . . . . . . 1\n",
       "  [3,] . . . . . . . . . . . . . . . . . . . . . . . . . . 1 1\n",
       "  [4,] . . . . . . . . . . . . . . . . . . . . . . . . . . . .\n",
       "  [5,] . . . . . . 1 . . . . . . . . . . . . . . . . . . . . .\n",
       "  [6,] . . . . . . . . . . . . . . . . . . . . . . . . . . . .\n",
       "  [7,] . . . . . . . . . . . . . . . . . . . . . . . . . . 1 .\n",
       "  [8,] . . . . . . 1 . . . . . . . . . . . . . . . . . . . . .\n",
       "  [9,] . . . . . . . . 1 . . . . . . . . . . . . . . . . . . .\n",
       " [10,] . . . . . . . . . . . . . . . . . . . . . . . . . . . .\n",
       " [11,] . . . . . . . . . . . . . . . . . . . . . . . . . . . .\n",
       " [12,] . . . 1 . . . . . . . . . . . . . . . . . . . . . . . .\n",
       " [13,] . 1 . . . . . . . . . . . . . . . . . . . . . . . . . .\n",
       " [14,] . . . . . . . . . . . . . . . . . . . . . . . . . . . .\n",
       " [15,] . 1 . . . . . . . . . . . . . . . . . . . . . . . . . .\n",
       " [16,] . . . . . . . . . . . . . . . . . . . . . . . . . . . .\n",
       " [17,] . . . . . . . . . . . . . . . . . . . . . . . . . . . .\n",
       " [18,] . . . . . . . . . . . . . . . . . . . . . . . . . . . .\n",
       " [19,] . . . . . . . . . . . . . . . . . . . . . . . . . . . .\n",
       " [20,] . . . . . . . . . . . . . . . . . 1 . . . . . . . . . .\n",
       " [21,] . . . . . . . . . . . . . . . . . . . . . . . . . . . .\n",
       " [22,] . . . . . . . . . . . . . . . . . . . . . . . . . . . .\n",
       " [23,] . . . . . . . . . 1 . . . . 1 . . . . . . . . . . . . .\n",
       " [24,] . . . . . . . . . . . . . . . . . . . . . . . . . . . .\n",
       " [25,] . . . . . . . . . . . . . . . 1 . . . . . . . . . . . .\n",
       " [26,] . . . . . . . . . . . . . . . . . . . . . . . . . . . .\n",
       " [27,] . . . . . . . . . . . . . . . . . . . . . . . . . . . .\n",
       " [28,] . . . . . . . . . . . . . . . . . . . . . . . . . . . .\n",
       " [29,] . . 1 . . . . . . . . . . . . . . . . . . . . . . . . .\n",
       " [30,] . . . . . . . . . . . . . . 1 . . . . . . . . . . . . .\n",
       " [31,] . . . . . . . . . . . . . . . . . . . . . . . . . . . .\n",
       " [32,] . . . . . . . . . . . . . . . . . . . . . . . . . . . .\n",
       " [33,] . . . . . . . . . . . . . . . . . . . . . . . . . . . .\n",
       " [34,] . . . . . . . . . . . . . . . . . . . . . . . . . . . .\n",
       " [35,] . . . . . . . . . . . . . . . . . . . . . . . . . . . .\n",
       " [36,] . . . . . . . . . . . . . . . . . . . . . . . . . . . .\n",
       " [37,] . . . . . . . . . . . . . . . 1 . . . . . . . . . . . .\n",
       " [38,] . . . . . . . . . . . . . . . . . . . . . . . . . . . .\n",
       " [39,] . . . . . . . . . . . . . . . . . . . . . . . . . . . .\n",
       " [40,] . . . . . . . . . . . . . . . . . . . . . . . . . . . .\n",
       " [41,] . . . . . . . . . . . . . . . . . . . . . . . . . . . 1\n",
       " [42,] . . 1 . . . . . . . . . . . . . . . . . . . . . . . . .\n",
       " [43,] . . . . . . . . . . . . . . . . . . . . . . . . . . . .\n",
       " [44,] . . . . . . . . . . . . . . . . . . . . . . . . . . . .\n",
       " [45,] . . . . . . . . . . . . . . . . . . . . . . . . . . . .\n",
       " [46,] . . . . . . . . . . . . . . . . . . . . . . . . . . . .\n",
       " [47,] . . . . . . 1 . . . . . . . . . . . . . . . . . . . . .\n",
       " [48,] . . . . . . . . . . . . . . . . . . . . . . . . . . . .\n",
       " [49,] . . . . . . . . . . . . . . . . . . . . . . . . . . . .\n",
       " [50,] . . . . . . . . . . . . . . . . . . . 1 . . . . . . . .\n",
       " [51,] . . . . . . . . . . . . . . . . . . 1 . . . . . . . . .\n",
       " [52,] . . . . . . . . . . . . . . . . . . . . . . . . . . . .\n",
       " [53,] . . . . . . . . . . . . . . . . . . . . . . . . . . . .\n",
       " [54,] . . . . . . . . . . . . . . . . . . . . . . . . . . . .\n",
       " [55,] . . . . . . . . . . . . . . . . . . . . . . . . . . . .\n",
       " [56,] . . . . . . . . . . . . . . . . . . . . . . . . . . . .\n",
       " [57,] . . . . . . . . . . . . . . . . . . . . . . . . . . . .\n",
       " [58,] . . . . . . . . . . . . . . . . . . . . . . . . 1 . . .\n",
       " [59,] . . . . . . . . . . . . . . . . . . . . . . . . . . . .\n",
       " [60,] . . . . . . . . . . . . . . . . . . . . . . . . . . . .\n",
       " [61,] . . . . . . . . . . . . . . . . . . . . . . . . . . . 1\n",
       " [62,] . . . . . . . . . . . . . . . . . . . . . . . . . . . .\n",
       " [63,] . . . . . . . . . . . . . . . . . . . . . . . . . . . .\n",
       " [64,] . . . . . . . . . . . . . . . . . . . . . . . . . . . .\n",
       " [65,] . . . . . . . . . . . . . . . . . . . . . . . . . . . .\n",
       " [66,] . . . . . . . . . . . . . . . . . . . . . . . . . . . .\n",
       " [67,] . . . . . . . . . . . . . . . . . . . . . . . . . . . .\n",
       " [68,] . . . . . . . . . . . . . . . . . . . . . . . . . . . .\n",
       " [69,] . . . . . . . . . . . . . . . . . . . . . . . . 1 . . .\n",
       " [70,] 1 . . . . . . . . . . . . . . . . . . . . . . . 1 . . .\n",
       " [71,] 1 . . . . . . . . . . . . . . . . . . . . . . . . . . .\n",
       " [72,] 1 1 1 . . . . . . . . . . . . . . . . . . . . . . . . .\n",
       " [73,] . 1 1 1 . . . . . . . . . . . . . . . . . . . . . . . .\n",
       " [74,] 1 . 1 1 1 . . . . . . . . . . . . . . . . . . . . . . .\n",
       " [75,] 1 1 . . 1 1 . . . . . . . . . . . . . . . . . . . . . .\n",
       " [76,] 1 1 . . 1 . 1 . . . . . . . . . . . . . . . . . . . . .\n",
       " [77,] . 1 1 1 . 1 1 1 . . . . . . . . . . . . . . . . . . . .\n",
       " [78,] . . 1 . 1 . . 1 1 . . . . . . . . . . . . . . . . . . .\n",
       " [79,] . . . 1 1 . . 1 1 1 . . . . . . . . . . . . . . . . . .\n",
       " [80,] . . . . 1 1 1 . 1 1 1 . . . . . . . . . . . . . . . . .\n",
       " [81,] . . . . . 1 1 1 . 1 1 1 . . . . . . . . . . . . . . . .\n",
       " [82,] . . . . . . 1 1 1 . 1 1 . . . . . . . . . . . . . . . .\n",
       " [83,] . . . . . . . 1 1 1 . . 1 1 . . . . . . . . . . . . . .\n",
       " [84,] . . . . . . . . 1 1 . . 1 1 . 1 . . . . . . . . . . . .\n",
       " [85,] . . . . . . . . . . 1 1 . 1 1 1 . . . . . . . . . . . .\n",
       " [86,] . . . . . . . . . . 1 1 1 . 1 . 1 . . . . . . . . . . .\n",
       " [87,] . . . . . . . . . . . . 1 1 . 1 1 1 . . . . . . . . . .\n",
       " [88,] . . . . . . . . . . . 1 1 . 1 . 1 1 . 1 . . . . . . . .\n",
       " [89,] . . . . . . . . . . . . . 1 1 1 . 1 . 1 . . . . . . . .\n",
       " [90,] . . . . . . . . . . . . . . 1 1 1 . 1 1 1 . . . . . . .\n",
       " [91,] . . . . . . . . . . . . . . . . . 1 . . 1 1 . . . . . .\n",
       " [92,] . . . . . . . . . . . . . . . 1 1 1 . . 1 1 1 . . . . .\n",
       " [93,] . . . . . . . . . . . . . . . . . 1 1 1 . 1 1 1 . . . .\n",
       " [94,] . . . . . . . . . . . . . . . . . . 1 1 1 . 1 1 1 . . .\n",
       " [95,] . . . . . . . . . . . . . . . . . . . 1 1 1 . 1 1 1 . .\n",
       " [96,] . . . . . . . . . . . . . . . . . . . . 1 1 1 . 1 1 1 .\n",
       " [97,] . . . . . . . . . . . . . . . . . . . . . 1 1 1 . 1 1 1\n",
       " [98,] . . . . . . . . . . . . . . . . . . . . . . 1 1 1 . 1 1\n",
       " [99,] . . . . . . . . . . . . . . . . . . . . . . . 1 1 1 . .\n",
       "[100,] . . . . . . . . . . . . . . . . . . . . . . . . 1 1 . ."
      ]
     },
     "metadata": {},
     "output_type": "display_data"
    }
   ],
   "source": [
    "get.adjacency(g)"
   ]
  },
  {
   "cell_type": "code",
   "execution_count": 4,
   "metadata": {
    "vscode": {
     "languageId": "r"
    }
   },
   "outputs": [],
   "source": [
    "# get.adjacency(g)"
   ]
  },
  {
   "cell_type": "markdown",
   "metadata": {},
   "source": [
    "# $\\braket{m} = \\frac{\\braket{M}}{N} = \\frac{1}{N}|\\braket{\\textbf{s}}| = \\frac{1}{N}|\\braket{\\displaystyle\\sum_{i=1}^N cos \\:\\theta_i, \\displaystyle\\sum_{i=1}^N sin \\:\\theta_i}|$\n",
    "## where $N = L \\times L $\n",
    "## $\\braket{m^2} = \\frac{\\braket{M^2}}{N^2} = \\frac{1}{N^2}|\\braket{s_x^2+s_y^2}| = \\frac{1}{N^2}|\\braket{\\displaystyle(\\sum_{i=1}^N cos \\:\\theta_i)^2 + \\displaystyle(\\sum_{i=1}^N sin \\:\\theta_i)^2}|$\n"
   ]
  },
  {
   "cell_type": "code",
   "execution_count": 5,
   "metadata": {
    "vscode": {
     "languageId": "r"
    }
   },
   "outputs": [],
   "source": [
    "H_matrix_calc <- function(N, mat, angles.samples){\n",
    "    H <- rep(0, N)\n",
    "    for (i in 1:N){\n",
    "        for (j in (mat[[i]])){\n",
    "            # These are all the n.n.\n",
    "            H[i] <- H[i] -cos(angles.samples[i] - angles.samples[j]) \n",
    "        }\n",
    "    }\n",
    "    co <- mean(cos(angles.samples))\n",
    "    si <- mean(sin(angles.samples))\n",
    "    return(list(H = H, co = co, si = si))\n",
    "}"
   ]
  },
  {
   "cell_type": "code",
   "execution_count": 6,
   "metadata": {
    "vscode": {
     "languageId": "r"
    }
   },
   "outputs": [],
   "source": [
    "compute_delta_H <- function(N, mat, angles.samples, T, H){\n",
    "    change_pos <- sample(N, 1)\n",
    "    new_angles <- angles.samples\n",
    "    new_val <- runif(1, -pi, pi)\n",
    "\n",
    "    new_angles[change_pos] <- new_val\n",
    "    \n",
    "    H.new <- sum(H_matrix_calc(N, mat, new_angles)$H)/2\n",
    "    delta_H <- H.new - H\n",
    "\n",
    "    # Metropolis passage\n",
    "    if (delta_H > 0){\n",
    "        if (runif(n = 1, min = 0, max = 1) < exp(-delta_H/T)){\n",
    "            angles.samples <- new_angles\n",
    "            H <- H.new\n",
    "        }\n",
    "    }\n",
    "    else{\n",
    "        angles.samples <- new_angles\n",
    "        H <- H.new\n",
    "    }\n",
    "    return(list(angles.samples = angles.samples, H = H))\n",
    "}"
   ]
  },
  {
   "cell_type": "code",
   "execution_count": 7,
   "metadata": {
    "vscode": {
     "languageId": "r"
    }
   },
   "outputs": [],
   "source": [
    "get_specific_heat <- function(all_H, T){\n",
    "    # actual.vals <- as.integer(length(all_H)/10)\n",
    "    # len <- length(all_H)\n",
    "    return(var(all_H)/T^2)\n",
    "}"
   ]
  },
  {
   "cell_type": "code",
   "execution_count": 8,
   "metadata": {
    "vscode": {
     "languageId": "r"
    }
   },
   "outputs": [],
   "source": [
    "NN <- c(100)#, 225, 400)#, 400, 1600, 3200)\n",
    "Temperature <- seq(2, 2.4, 0.025)\n",
    "# probs <- seq(0, 1, 0.1)\n",
    "p <- 0.2\n",
    "runs <- 1:100\n",
    "iter_per_step <- 1:1000\n",
    "m <- c(); m.2 <- c(); m.4 <- c()\n",
    "specific_heat <- c()\n",
    "for (N in NN){\n",
    "    g <- sample_smallworld(dim = dim, size = N, nei = nei, p = p, loops = FALSE, multiple = FALSE)\n",
    "    mat <- get.adjlist(g)\n",
    "    angles.samples <- runif(n = vcount(g), min = -pi, max = pi)        \n",
    "    for (T in Temperature){\n",
    "        magn <- c(); all_H <- c(); m_squared <- c(); m_fourth <- c()\n",
    "        result <- H_matrix_calc(N = N, mat = mat, angles.samples = angles.samples)\n",
    "        H_matrix <- result$H; co <- result$co; si <- result$si\n",
    "        # magn <- append(magn, norm(c(co, si), type=\"2\"))\n",
    "        H <- sum(H_matrix)/2\n",
    "        # all_H <- append(all_H, H)   \n",
    "        for (run in runs){\n",
    "            for (iter in iter_per_step){\n",
    "                res <- compute_delta_H(N, mat, angles.samples, T, H)\n",
    "                angles.samples <- res$angles.samples; H <- res$H\n",
    "            }\n",
    "            # result <- H_matrix_calc(N = N, mat = mat, angles.samples = angles.samples)\n",
    "            # H_matrix <- result$H; co <- result$co; si <- result$si\n",
    "            # H <- sum(H_matrix)/2\n",
    "            co <- mean(cos(angles.samples))\n",
    "            si <- mean(sin(angles.samples))\n",
    "            all_H <- append(all_H, H)\n",
    "            \n",
    "            # Compute magnetization and higer orders of m\n",
    "            m_temp <- c(co, si)\n",
    "            m_2 <- sum(m_temp^2)\n",
    "            m_4 <- m_2^2\n",
    "\n",
    "            # Save results for each run\n",
    "            magn <- append(magn, norm(m_temp, type=\"2\"))\n",
    "            m_squared <- append(m_squared, m_2)\n",
    "            m_fourth <- append(m_fourth, m_4) \n",
    "        }\n",
    "\n",
    "        specific_heat <- append(specific_heat, get_specific_heat(all_H, T))\n",
    "        # Take the average for each run, so to have only one value per temperature\n",
    "        m <- append(m, mean(magn))\n",
    "        m.2 <- append(m.2, mean(m_squared))\n",
    "        m.4 <- append(m.4, mean(m_fourth))\n",
    "    }\n",
    "}\n",
    "U.N.T <- 1 - m.4/(3*(m.2^2))"
   ]
  },
  {
   "cell_type": "code",
   "execution_count": 9,
   "metadata": {
    "vscode": {
     "languageId": "r"
    }
   },
   "outputs": [
    {
     "data": {
      "text/html": [
       "<style>\n",
       ".list-inline {list-style: none; margin:0; padding: 0}\n",
       ".list-inline>li {display: inline-block}\n",
       ".list-inline>li:not(:last-child)::after {content: \"\\00b7\"; padding: 0 .5ex}\n",
       "</style>\n",
       "<ol class=list-inline><li>0.149011350608663</li><li>0.130600420261917</li><li>0.147001780414258</li><li>0.11540971930216</li><li>0.116047078518306</li><li>0.101710841529097</li><li>0.0949382785188805</li><li>0.105632469567271</li><li>0.0901257345749862</li><li>0.0746639363555884</li><li>0.0787954588088402</li><li>0.0610322055396464</li><li>0.0610850128488993</li><li>0.0489394342556981</li><li>0.0509808295136254</li><li>0.0529119312026763</li><li>0.0512332528908049</li></ol>\n"
      ],
      "text/latex": [
       "\\begin{enumerate*}\n",
       "\\item 0.149011350608663\n",
       "\\item 0.130600420261917\n",
       "\\item 0.147001780414258\n",
       "\\item 0.11540971930216\n",
       "\\item 0.116047078518306\n",
       "\\item 0.101710841529097\n",
       "\\item 0.0949382785188805\n",
       "\\item 0.105632469567271\n",
       "\\item 0.0901257345749862\n",
       "\\item 0.0746639363555884\n",
       "\\item 0.0787954588088402\n",
       "\\item 0.0610322055396464\n",
       "\\item 0.0610850128488993\n",
       "\\item 0.0489394342556981\n",
       "\\item 0.0509808295136254\n",
       "\\item 0.0529119312026763\n",
       "\\item 0.0512332528908049\n",
       "\\end{enumerate*}\n"
      ],
      "text/markdown": [
       "1. 0.149011350608663\n",
       "2. 0.130600420261917\n",
       "3. 0.147001780414258\n",
       "4. 0.11540971930216\n",
       "5. 0.116047078518306\n",
       "6. 0.101710841529097\n",
       "7. 0.0949382785188805\n",
       "8. 0.105632469567271\n",
       "9. 0.0901257345749862\n",
       "10. 0.0746639363555884\n",
       "11. 0.0787954588088402\n",
       "12. 0.0610322055396464\n",
       "13. 0.0610850128488993\n",
       "14. 0.0489394342556981\n",
       "15. 0.0509808295136254\n",
       "16. 0.0529119312026763\n",
       "17. 0.0512332528908049\n",
       "\n",
       "\n"
      ],
      "text/plain": [
       " [1] 0.14901135 0.13060042 0.14700178 0.11540972 0.11604708 0.10171084\n",
       " [7] 0.09493828 0.10563247 0.09012573 0.07466394 0.07879546 0.06103221\n",
       "[13] 0.06108501 0.04893943 0.05098083 0.05291193 0.05123325"
      ]
     },
     "metadata": {},
     "output_type": "display_data"
    }
   ],
   "source": [
    "m.4"
   ]
  },
  {
   "cell_type": "code",
   "execution_count": 10,
   "metadata": {
    "vscode": {
     "languageId": "r"
    }
   },
   "outputs": [
    {
     "data": {
      "text/html": [
       "<style>\n",
       ".list-inline {list-style: none; margin:0; padding: 0}\n",
       ".list-inline>li {display: inline-block}\n",
       ".list-inline>li:not(:last-child)::after {content: \"\\00b7\"; padding: 0 .5ex}\n",
       "</style>\n",
       "<ol class=list-inline><li>0.368793601860762</li><li>0.349357859307159</li><li>0.370761627939844</li><li>0.324262443986261</li><li>0.325312337997823</li><li>0.303186549509063</li><li>0.293597585752624</li><li>0.306632533289345</li><li>0.271563264467455</li><li>0.248959453880666</li><li>0.26007895893143</li><li>0.218105939987708</li><li>0.222122679087761</li><li>0.187622662754313</li><li>0.196422222279666</li><li>0.20154415386144</li><li>0.205006548996768</li></ol>\n"
      ],
      "text/latex": [
       "\\begin{enumerate*}\n",
       "\\item 0.368793601860762\n",
       "\\item 0.349357859307159\n",
       "\\item 0.370761627939844\n",
       "\\item 0.324262443986261\n",
       "\\item 0.325312337997823\n",
       "\\item 0.303186549509063\n",
       "\\item 0.293597585752624\n",
       "\\item 0.306632533289345\n",
       "\\item 0.271563264467455\n",
       "\\item 0.248959453880666\n",
       "\\item 0.26007895893143\n",
       "\\item 0.218105939987708\n",
       "\\item 0.222122679087761\n",
       "\\item 0.187622662754313\n",
       "\\item 0.196422222279666\n",
       "\\item 0.20154415386144\n",
       "\\item 0.205006548996768\n",
       "\\end{enumerate*}\n"
      ],
      "text/markdown": [
       "1. 0.368793601860762\n",
       "2. 0.349357859307159\n",
       "3. 0.370761627939844\n",
       "4. 0.324262443986261\n",
       "5. 0.325312337997823\n",
       "6. 0.303186549509063\n",
       "7. 0.293597585752624\n",
       "8. 0.306632533289345\n",
       "9. 0.271563264467455\n",
       "10. 0.248959453880666\n",
       "11. 0.26007895893143\n",
       "12. 0.218105939987708\n",
       "13. 0.222122679087761\n",
       "14. 0.187622662754313\n",
       "15. 0.196422222279666\n",
       "16. 0.20154415386144\n",
       "17. 0.205006548996768\n",
       "\n",
       "\n"
      ],
      "text/plain": [
       " [1] 0.3687936 0.3493579 0.3707616 0.3242624 0.3253123 0.3031865 0.2935976\n",
       " [8] 0.3066325 0.2715633 0.2489595 0.2600790 0.2181059 0.2221227 0.1876227\n",
       "[15] 0.1964222 0.2015442 0.2050065"
      ]
     },
     "metadata": {},
     "output_type": "display_data"
    }
   ],
   "source": [
    "m.2"
   ]
  },
  {
   "cell_type": "code",
   "execution_count": 11,
   "metadata": {
    "vscode": {
     "languageId": "r"
    }
   },
   "outputs": [
    {
     "data": {
      "text/html": [
       "<style>\n",
       ".list-inline {list-style: none; margin:0; padding: 0}\n",
       ".list-inline>li {display: inline-block}\n",
       ".list-inline>li:not(:last-child)::after {content: \"\\00b7\"; padding: 0 .5ex}\n",
       "</style>\n",
       "<ol class=list-inline><li>0.634799519321782</li><li>0.643317103953122</li><li>0.6435391985221</li><li>0.634129135422032</li><li>0.634479375519814</li><li>0.631170090577867</li><li>0.632874004045796</li><li>0.625510438691977</li><li>0.592633303324813</li><li>0.598456701113273</li><li>0.611698115880932</li><li>0.572335872861995</li><li>0.58730651885433</li><li>0.536588187993048</li><li>0.559542101452189</li><li>0.56579787181637</li><li>0.593654732347471</li></ol>\n"
      ],
      "text/latex": [
       "\\begin{enumerate*}\n",
       "\\item 0.634799519321782\n",
       "\\item 0.643317103953122\n",
       "\\item 0.6435391985221\n",
       "\\item 0.634129135422032\n",
       "\\item 0.634479375519814\n",
       "\\item 0.631170090577867\n",
       "\\item 0.632874004045796\n",
       "\\item 0.625510438691977\n",
       "\\item 0.592633303324813\n",
       "\\item 0.598456701113273\n",
       "\\item 0.611698115880932\n",
       "\\item 0.572335872861995\n",
       "\\item 0.58730651885433\n",
       "\\item 0.536588187993048\n",
       "\\item 0.559542101452189\n",
       "\\item 0.56579787181637\n",
       "\\item 0.593654732347471\n",
       "\\end{enumerate*}\n"
      ],
      "text/markdown": [
       "1. 0.634799519321782\n",
       "2. 0.643317103953122\n",
       "3. 0.6435391985221\n",
       "4. 0.634129135422032\n",
       "5. 0.634479375519814\n",
       "6. 0.631170090577867\n",
       "7. 0.632874004045796\n",
       "8. 0.625510438691977\n",
       "9. 0.592633303324813\n",
       "10. 0.598456701113273\n",
       "11. 0.611698115880932\n",
       "12. 0.572335872861995\n",
       "13. 0.58730651885433\n",
       "14. 0.536588187993048\n",
       "15. 0.559542101452189\n",
       "16. 0.56579787181637\n",
       "17. 0.593654732347471\n",
       "\n",
       "\n"
      ],
      "text/plain": [
       " [1] 0.6347995 0.6433171 0.6435392 0.6341291 0.6344794 0.6311701 0.6328740\n",
       " [8] 0.6255104 0.5926333 0.5984567 0.6116981 0.5723359 0.5873065 0.5365882\n",
       "[15] 0.5595421 0.5657979 0.5936547"
      ]
     },
     "metadata": {},
     "output_type": "display_data"
    }
   ],
   "source": [
    "U.N.T"
   ]
  },
  {
   "cell_type": "code",
   "execution_count": 12,
   "metadata": {
    "vscode": {
     "languageId": "r"
    }
   },
   "outputs": [
    {
     "data": {
      "image/png": "[encoded data removed]",
      "text/plain": [
       "plot without title"
      ]
     },
     "metadata": {
      "image/png": {
       "height": 420,
       "width": 420
      }
     },
     "output_type": "display_data"
    }
   ],
   "source": [
    "plot(Temperature, U.N.T[1:length(Temperature)], ylim=c(0.3, 0.7))\n",
    "# points(Temperature, U.N.T[(length(Temperature)+1):(2*length(Temperature))], pch=16)    \n",
    "# points(Temperature, U.N.T[(2*(length(Temperature))+1)*2:(3*length(Temperature))], pch=16)    "
   ]
  },
  {
   "cell_type": "code",
   "execution_count": 13,
   "metadata": {
    "vscode": {
     "languageId": "r"
    }
   },
   "outputs": [
    {
     "data": {
      "image/png": "[encoded data removed]",
      "text/plain": [
       "plot without title"
      ]
     },
     "metadata": {
      "image/png": {
       "height": 420,
       "width": 420
      }
     },
     "output_type": "display_data"
    }
   ],
   "source": [
    "plot(Temperature, specific_heat[1:length(Temperature)])\n",
    "# points(Temperature, specific_heat[(length(Temperature)+1):(2*length(Temperature))], pch=16)\n",
    "# points(Temperature, specific_heat[(2*length(Temperature)+1):(3*length(Temperature))], pch=16)"
   ]
  },
  {
   "cell_type": "code",
   "execution_count": 14,
   "metadata": {
    "vscode": {
     "languageId": "r"
    }
   },
   "outputs": [
    {
     "data": {
      "text/html": [
       "<style>\n",
       ".list-inline {list-style: none; margin:0; padding: 0}\n",
       ".list-inline>li {display: inline-block}\n",
       ".list-inline>li:not(:last-child)::after {content: \"\\00b7\"; padding: 0 .5ex}\n",
       "</style>\n",
       "<ol class=list-inline><li>-90.620318384561</li><li>-117.739305360347</li><li>-131.880316023012</li><li>-89.3770361709354</li><li>-98.8936793371463</li><li>-106.109838299607</li><li>-114.415970811754</li><li>-144.322929657521</li><li>-85.6587741831033</li><li>-106.391440459486</li><li>-102.860987385683</li><li>-118.869772147041</li><li>-90.2315493315078</li><li>-77.8700584781006</li><li>-97.3663448334111</li><li>-81.4737575479321</li><li>-125.166825109591</li></ol>\n"
      ],
      "text/latex": [
       "\\begin{enumerate*}\n",
       "\\item -90.620318384561\n",
       "\\item -117.739305360347\n",
       "\\item -131.880316023012\n",
       "\\item -89.3770361709354\n",
       "\\item -98.8936793371463\n",
       "\\item -106.109838299607\n",
       "\\item -114.415970811754\n",
       "\\item -144.322929657521\n",
       "\\item -85.6587741831033\n",
       "\\item -106.391440459486\n",
       "\\item -102.860987385683\n",
       "\\item -118.869772147041\n",
       "\\item -90.2315493315078\n",
       "\\item -77.8700584781006\n",
       "\\item -97.3663448334111\n",
       "\\item -81.4737575479321\n",
       "\\item -125.166825109591\n",
       "\\end{enumerate*}\n"
      ],
      "text/markdown": [
       "1. -90.620318384561\n",
       "2. -117.739305360347\n",
       "3. -131.880316023012\n",
       "4. -89.3770361709354\n",
       "5. -98.8936793371463\n",
       "6. -106.109838299607\n",
       "7. -114.415970811754\n",
       "8. -144.322929657521\n",
       "9. -85.6587741831033\n",
       "10. -106.391440459486\n",
       "11. -102.860987385683\n",
       "12. -118.869772147041\n",
       "13. -90.2315493315078\n",
       "14. -77.8700584781006\n",
       "15. -97.3663448334111\n",
       "16. -81.4737575479321\n",
       "17. -125.166825109591\n",
       "\n",
       "\n"
      ],
      "text/plain": [
       " [1]  -90.62032 -117.73931 -131.88032  -89.37704  -98.89368 -106.10984\n",
       " [7] -114.41597 -144.32293  -85.65877 -106.39144 -102.86099 -118.86977\n",
       "[13]  -90.23155  -77.87006  -97.36634  -81.47376 -125.16683"
      ]
     },
     "metadata": {},
     "output_type": "display_data"
    }
   ],
   "source": [
    "all_H[1:17]"
   ]
  }
 ],
 "metadata": {
  "kernelspec": {
   "display_name": "R",
   "language": "R",
   "name": "ir"
  },
  "language_info": {
   "codemirror_mode": "r",
   "file_extension": ".r",
   "mimetype": "text/x-r-source",
   "name": "R",
   "pygments_lexer": "r",
   "version": "4.2.2"
  },
  "orig_nbformat": 4
 },
 "nbformat": 4,
 "nbformat_minor": 2
}
