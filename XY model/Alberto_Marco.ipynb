{
 "cells": [
  {
   "cell_type": "code",
   "execution_count": 2,
   "metadata": {
    "vscode": {
     "languageId": "r"
    }
   },
   "outputs": [
    {
     "name": "stderr",
     "output_type": "stream",
     "text": [
      "Warning message:\n",
      "\"il pacchetto 'igraph' è stato creato con R versione 4.2.3\"\n"
     ]
    },
    {
     "data": {
      "image/png": "[encoded data removed]",
      "text/plain": [
       "Plot with title \"\""
      ]
     },
     "metadata": {
      "image/png": {
       "height": 420,
       "width": 420
      }
     },
     "output_type": "display_data"
    }
   ],
   "source": [
    "# My model\n",
    "library(igraph) |> suppressPackageStartupMessages()\n",
    "library(ggplot2) |> suppressPackageStartupMessages()\n",
    "\n",
    "# Main to generate a network with a multiplicative process and preferential attachment\n",
    "\n",
    "N_it <- 1 # Number of iterations\n",
    "m <- 2 # Multiplicative factor\n",
    "max_degree <- 3 # Max degree to avoid sons of sons\n",
    "\n",
    "# Initialize the star graph\n",
    "g <- make_graph(~ 1 - -2, 1 - -3, 1 - -4, 1 - -5)\n",
    "A <- V(g)\n",
    "B <- lapply(1:vcount(g), function(i) neighborhood(g, order = 1, nodes = i))\n",
    "degree_sequence <- degree(g)\n",
    "for (iter in 1:N_it){\n",
    "  # 1. Add m*k nodes to each existing node: m = 2\n",
    "  for (node in A) {\n",
    "    mk <- m * degree_sequence[[node]]\n",
    "    for (j in (1:mk)) {\n",
    "      g <- add.vertices(g, nv = 1)\n",
    "      new_node <- vcount(g)\n",
    "      V(g)$name[new_node] <- new_node\n",
    "      g <- add_edges(g, edges = c(node, new_node))\n",
    "    }\n",
    "  }\n",
    "  # plot(g)\n",
    "  degree_sequence <- degree(g)\n",
    "\n",
    "  # 2. Add new neighbours\n",
    "  for (node in A) {\n",
    "    if (as.integer(degree_sequence[node]) < max_degree){\n",
    "      \n",
    "      neig <- neighbors(g, node)\n",
    "      lis <- B[[node]][[1]][-1]\n",
    "      new_neig <- neig[!(neig %in% lis)]\n",
    "      s <- as.integer(sample(new_neig, 1))\n",
    "      # parent:\n",
    "      p <- as.integer(sample(lis, 1))\n",
    "      neig_p <- neighbors(g, p)\n",
    "      new_neig_p <- neig_p[!(neig_p %in% B[[p]][[1]][-1])]\n",
    "      check <- TRUE\n",
    "      while (check){\n",
    "        l <- as.integer(sample(new_neig_p, 1))\n",
    "        if (get.adjacency(g)[s, l] != 1){\n",
    "          check <- FALSE\n",
    "        }\n",
    "      }\n",
    "      # Add this connection\n",
    "      g <- add_edges(g, edges = c(s, l))\n",
    "    }\n",
    "  }\n",
    "  # plot(g)\n",
    "\n",
    "  # 3. Remove B edges\n",
    "  # g_directed <- set.edge.attribute(g, \"arrow.mode\", index = E(g), value = 1)\n",
    "  lis <- c()\n",
    "  for (node in A){\n",
    "    if (as.integer(degree_sequence[node]) < max_degree){\n",
    "      for (j in B[[node]][[1]][-1]){\n",
    "        g <- delete_edges(g, j)\n",
    "      }\n",
    "    }\n",
    "  }\n",
    "  # g_undirected <- set.edge.attribute(g_directed, \"arrow.mode\", index = E(g_directed), value = 0)\n",
    "  # g <- g_undirected\n",
    "  # plot(g)\n",
    "\n",
    "  # 4. Calculate again A, B and the degree sequence\n",
    "  A <- V(g)\n",
    "  B <- lapply(1:vcount(g), function(i) neighborhood(g, order = 1, nodes = i))\n",
    "  degree_sequence <- degree(g)\n",
    "\n",
    "  # 5. Iterate\n",
    "}\n",
    "# plot(g)\n",
    "plot(g, \n",
    "     vertex.label=NA, \n",
    "     vertex.color=\"green\",\n",
    "     vertex.size=2,\n",
    "     edge.color=\"red\",\n",
    "     edge.width=1)"
   ]
  },
  {
   "cell_type": "code",
   "execution_count": 9,
   "metadata": {
    "vscode": {
     "languageId": "r"
    }
   },
   "outputs": [
    {
     "data": {
      "image/png": "[encoded data removed]",
      "text/plain": [
       "Plot with title \"\""
      ]
     },
     "metadata": {
      "image/png": {
       "height": 420,
       "width": 420
      }
     },
     "output_type": "display_data"
    }
   ],
   "source": [
    "# Model 1\n",
    "\n",
    "N_it <- 3 # Number of iterations\n",
    "m <- 2    # Multiplicative factor \n",
    "\n",
    "\n",
    "# Initialize the star graph\n",
    "g <- make_graph(~ 1--2, 1--3, 1--4, 1--5)\n",
    "# plot(g, \n",
    "#      vertex.label=NA, \n",
    "#      vertex.color=\"green\",\n",
    "#      vertex.size=2,\n",
    "#      edge.color=\"red\",\n",
    "#      edge.width=1)\n",
    "\n",
    "#\n",
    "\n",
    "# Generate the network with a multiplicative process and preferential attachment\n",
    "for (t in 1:N_it) {\n",
    "  for (node in seq(1:vcount(g))) {\n",
    "    vcount(g)\n",
    "    node_degree <- degree(g, v = node)\n",
    "    mk = m*node_degree\n",
    "    for( j in seq(1:mk)){\n",
    "      g <- add.vertices(g, nv = 1)\n",
    "      new_node <- vcount(g)\n",
    "      g <- add_edges(g, edges = c(node, new_node ))\n",
    "    }\n",
    "  }\n",
    "}\n",
    "\n",
    "plot(g, \n",
    "     vertex.label=NA, \n",
    "     vertex.color=\"green\",\n",
    "     vertex.size=2,\n",
    "     edge.color=\"red\",\n",
    "     edge.width=1)"
   ]
  },
  {
   "cell_type": "code",
   "execution_count": 26,
   "metadata": {
    "vscode": {
     "languageId": "r"
    }
   },
   "outputs": [
    {
     "name": "stderr",
     "output_type": "stream",
     "text": [
      "Warning message in shortest_paths(g, from = l, to = p):\n",
      "\"At core/paths/unweighted.c:368 : Couldn't reach some vertices.\"\n"
     ]
    },
    {
     "name": "stdout",
     "output_type": "stream",
     "text": [
      "15 \n"
     ]
    },
    {
     "name": "stderr",
     "output_type": "stream",
     "text": [
      "Warning message in shortest_paths(g, from = l, to = p):\n",
      "\"At core/paths/unweighted.c:368 : Couldn't reach some vertices.\"\n"
     ]
    },
    {
     "name": "stdout",
     "output_type": "stream",
     "text": [
      "17 \n"
     ]
    },
    {
     "name": "stderr",
     "output_type": "stream",
     "text": [
      "Warning message in shortest_paths(g, from = l, to = p):\n",
      "\"At core/paths/unweighted.c:368 : Couldn't reach some vertices.\"\n"
     ]
    },
    {
     "name": "stdout",
     "output_type": "stream",
     "text": [
      "19 \n"
     ]
    },
    {
     "name": "stderr",
     "output_type": "stream",
     "text": [
      "Warning message in shortest_paths(g, from = l, to = p):\n",
      "\"At core/paths/unweighted.c:368 : Couldn't reach some vertices.\"\n"
     ]
    },
    {
     "name": "stdout",
     "output_type": "stream",
     "text": [
      "20 \n"
     ]
    },
    {
     "name": "stderr",
     "output_type": "stream",
     "text": [
      "Warning message in shortest_paths(g, from = l, to = p):\n",
      "\"At core/paths/unweighted.c:368 : Couldn't reach some vertices.\"\n"
     ]
    },
    {
     "name": "stdout",
     "output_type": "stream",
     "text": [
      "55 \n"
     ]
    },
    {
     "name": "stderr",
     "output_type": "stream",
     "text": [
      "Warning message in shortest_paths(g, from = l, to = p):\n",
      "\"At core/paths/unweighted.c:368 : Couldn't reach some vertices.\"\n"
     ]
    },
    {
     "name": "stdout",
     "output_type": "stream",
     "text": [
      "61 \n"
     ]
    },
    {
     "name": "stderr",
     "output_type": "stream",
     "text": [
      "Warning message in shortest_paths(g, from = l, to = p):\n",
      "\"At core/paths/unweighted.c:368 : Couldn't reach some vertices.\"\n"
     ]
    },
    {
     "name": "stdout",
     "output_type": "stream",
     "text": [
      "65 \n"
     ]
    },
    {
     "name": "stderr",
     "output_type": "stream",
     "text": [
      "Warning message in shortest_paths(g, from = l, to = p):\n",
      "\"At core/paths/unweighted.c:368 : Couldn't reach some vertices.\"\n"
     ]
    },
    {
     "name": "stdout",
     "output_type": "stream",
     "text": [
      "66 \n"
     ]
    },
    {
     "name": "stderr",
     "output_type": "stream",
     "text": [
      "Warning message in shortest_paths(g, from = l, to = p):\n",
      "\"At core/paths/unweighted.c:368 : Couldn't reach some vertices.\"\n"
     ]
    },
    {
     "name": "stdout",
     "output_type": "stream",
     "text": [
      "68 \n"
     ]
    },
    {
     "name": "stderr",
     "output_type": "stream",
     "text": [
      "Warning message in shortest_paths(g, from = l, to = p):\n",
      "\"At core/paths/unweighted.c:368 : Couldn't reach some vertices.\"\n"
     ]
    },
    {
     "name": "stdout",
     "output_type": "stream",
     "text": [
      "70 \n"
     ]
    },
    {
     "name": "stderr",
     "output_type": "stream",
     "text": [
      "Warning message in shortest_paths(g, from = l, to = p):\n",
      "\"At core/paths/unweighted.c:368 : Couldn't reach some vertices.\"\n"
     ]
    },
    {
     "name": "stdout",
     "output_type": "stream",
     "text": [
      "72 \n"
     ]
    },
    {
     "name": "stderr",
     "output_type": "stream",
     "text": [
      "Warning message in shortest_paths(g, from = l, to = p):\n",
      "\"At core/paths/unweighted.c:368 : Couldn't reach some vertices.\"\n"
     ]
    },
    {
     "name": "stdout",
     "output_type": "stream",
     "text": [
      "77 \n"
     ]
    },
    {
     "name": "stderr",
     "output_type": "stream",
     "text": [
      "Warning message in shortest_paths(g, from = l, to = p):\n",
      "\"At core/paths/unweighted.c:368 : Couldn't reach some vertices.\"\n"
     ]
    },
    {
     "name": "stdout",
     "output_type": "stream",
     "text": [
      "79 \n"
     ]
    },
    {
     "name": "stderr",
     "output_type": "stream",
     "text": [
      "Warning message in shortest_paths(g, from = l, to = p):\n",
      "\"At core/paths/unweighted.c:368 : Couldn't reach some vertices.\"\n"
     ]
    },
    {
     "name": "stdout",
     "output_type": "stream",
     "text": [
      "83 \n"
     ]
    },
    {
     "name": "stderr",
     "output_type": "stream",
     "text": [
      "Warning message in shortest_paths(g, from = l, to = p):\n",
      "\"At core/paths/unweighted.c:368 : Couldn't reach some vertices.\"\n"
     ]
    },
    {
     "name": "stdout",
     "output_type": "stream",
     "text": [
      "84 \n"
     ]
    },
    {
     "name": "stderr",
     "output_type": "stream",
     "text": [
      "Warning message in shortest_paths(g, from = l, to = p):\n",
      "\"At core/paths/unweighted.c:368 : Couldn't reach some vertices.\"\n"
     ]
    },
    {
     "name": "stdout",
     "output_type": "stream",
     "text": [
      "89 \n"
     ]
    },
    {
     "name": "stderr",
     "output_type": "stream",
     "text": [
      "Warning message in shortest_paths(g, from = l, to = p):\n",
      "\"At core/paths/unweighted.c:368 : Couldn't reach some vertices.\"\n"
     ]
    },
    {
     "name": "stdout",
     "output_type": "stream",
     "text": [
      "91 \n"
     ]
    },
    {
     "name": "stderr",
     "output_type": "stream",
     "text": [
      "Warning message in shortest_paths(g, from = l, to = p):\n",
      "\"At core/paths/unweighted.c:368 : Couldn't reach some vertices.\"\n"
     ]
    },
    {
     "name": "stdout",
     "output_type": "stream",
     "text": [
      "93 \n"
     ]
    },
    {
     "name": "stderr",
     "output_type": "stream",
     "text": [
      "Warning message in shortest_paths(g, from = l, to = p):\n",
      "\"At core/paths/unweighted.c:368 : Couldn't reach some vertices.\"\n"
     ]
    },
    {
     "name": "stdout",
     "output_type": "stream",
     "text": [
      "96 \n"
     ]
    },
    {
     "name": "stderr",
     "output_type": "stream",
     "text": [
      "Warning message in shortest_paths(g, from = l, to = p):\n",
      "\"At core/paths/unweighted.c:368 : Couldn't reach some vertices.\"\n"
     ]
    },
    {
     "name": "stdout",
     "output_type": "stream",
     "text": [
      "100 \n"
     ]
    },
    {
     "name": "stderr",
     "output_type": "stream",
     "text": [
      "Warning message in shortest_paths(g, from = l, to = p):\n",
      "\"At core/paths/unweighted.c:368 : Couldn't reach some vertices.\"\n"
     ]
    },
    {
     "name": "stdout",
     "output_type": "stream",
     "text": [
      "95 \n"
     ]
    },
    {
     "name": "stderr",
     "output_type": "stream",
     "text": [
      "Warning message in shortest_paths(g, from = l, to = p):\n",
      "\"At core/paths/unweighted.c:368 : Couldn't reach some vertices.\"\n"
     ]
    },
    {
     "name": "stdout",
     "output_type": "stream",
     "text": [
      "88 \n"
     ]
    },
    {
     "name": "stderr",
     "output_type": "stream",
     "text": [
      "Warning message in shortest_paths(g, from = l, to = p):\n",
      "\"At core/paths/unweighted.c:368 : Couldn't reach some vertices.\"\n"
     ]
    },
    {
     "name": "stdout",
     "output_type": "stream",
     "text": [
      "98 \n"
     ]
    },
    {
     "name": "stderr",
     "output_type": "stream",
     "text": [
      "Warning message in shortest_paths(g, from = l, to = p):\n",
      "\"At core/paths/unweighted.c:368 : Couldn't reach some vertices.\"\n"
     ]
    },
    {
     "name": "stdout",
     "output_type": "stream",
     "text": [
      "82 \n"
     ]
    },
    {
     "data": {
      "image/png": "[encoded data removed]",
      "text/plain": [
       "Plot with title \"\""
      ]
     },
     "metadata": {
      "image/png": {
       "height": 420,
       "width": 420
      }
     },
     "output_type": "display_data"
    }
   ],
   "source": [
    "# Model 2\n",
    "# Main to generate a network with a multiplicative process and preferential attachment\n",
    "\n",
    "N_it <- 2 # Number of iterations\n",
    "m <- 2    # Multiplicative factor \n",
    "nn_list <- list()\n",
    "nn_list_new <- list()\n",
    "# Initialize the star graph\n",
    "g <- make_graph(~ 1--2, 1--3, 1--4, 1--5)\n",
    "\n",
    "\n",
    "# Generate the network with a multiplicative process and preferential attachment\n",
    "\n",
    "for (t in 1:N_it) {\n",
    "  states <- logical(vcount(g))\n",
    "  states <- TRUE\n",
    "  V(g)$state <- states\n",
    "  degree_sequence <- degree(g)\n",
    "  for( s in (1:vcount(g) ) ) {\n",
    "    nn_list[[length(nn_list) + 1]] <- as_ids(neighbors(g, s, mode = c( \"all\")))\n",
    "  }\n",
    "  g <- delete_edges(g, E(g))\n",
    " \n",
    "  \n",
    "  # loop su tutti i nodi (mi serve per sapere il degree)\n",
    "  for (node in (1:vcount(g))) {\n",
    "    mk = m*degree_sequence[node]\n",
    "    # loop sui figli generati \n",
    "    for( j in (1:mk)){\n",
    "      g <- add.vertices(g, nv = 1, state=FALSE, name = vcount(g) + 1, busy=FALSE)\n",
    "      new_node <- vcount(g)\n",
    "      g <- add_edges(g, edges = c(node, new_node )) \n",
    "    }\n",
    "  }\n",
    "   degree_sequence_new <- degree(g)\n",
    "# genero una lista di vicini aggiornata\n",
    "  for( d in (1:vcount(g) ) ) {\n",
    "    nn_list_new[[length(nn_list_new) + 1]] <- as_ids(neighbors(g, d, mode = c( \"all\")))\n",
    "  }\n",
    "  # loop su tutti i nodi per vedere quali sono quelli già esistenti\n",
    "  for( l in seq(1:vcount(g))){\n",
    "    if(V(g)$state[l] == TRUE) {\n",
    "      # scorre sui quelli che erano i vicini di l allo step precedente\n",
    "      for( p in nn_list[[l]]) { \n",
    "        #Qua sotto dovrei collegare tanti figli di l quanto era prima il degree di l\n",
    "        shortest_path <- shortest_paths(g, from = l, to = p)\n",
    "        if (length(shortest_path$vpath[[1]]) != 4) {\n",
    "          p <- as.integer(p)\n",
    "          random_son_l <- sample((1:degree_sequence_new[l]), 1) \n",
    "          while (V(g)$busy[as.integer(nn_list_new[[l]][random_son_l])] == TRUE) {\n",
    "          random_son_l <- sample((1:degree_sequence_new[l]), 1) \n",
    "          }\n",
    "          son_l <- nn_list_new[[l]][random_son_l]\n",
    "          V(g)$busy[as.integer(nn_list_new[[l]][random_son_l])] <- TRUE\n",
    "          random_son_p <- sample((1:degree_sequence_new[p]), 1) \n",
    "          while (V(g)$busy[as.integer(nn_list_new[[p]][random_son_p])] == TRUE) {\n",
    "           random_son_p <- sample((1:degree_sequence_new[p]), 1) \n",
    "          }\n",
    "          V(g)$busy[as.integer(nn_list_new[[p]][random_son_p])] <- TRUE\n",
    "          son_p <- nn_list_new[[p]][random_son_p]\n",
    "          cat(son_p, \"\\n\")\n",
    "          g <- add_edges(g, edges = c(son_l, son_p))\n",
    "        }\n",
    "      }\n",
    "    }\n",
    "  }\n",
    "  nn_list <- NULL\n",
    "  nn_list_new <- NULL\n",
    "}\n",
    "\n",
    "plot(g, \n",
    "     vertex.label=NA, \n",
    "     vertex.color=\"green\",\n",
    "     vertex.size=2,\n",
    "     edge.color=\"red\",\n",
    "     edge.width=1)"
   ]
  },
  {
   "cell_type": "code",
   "execution_count": 10,
   "metadata": {
    "vscode": {
     "languageId": "r"
    }
   },
   "outputs": [
    {
     "ename": "",
     "evalue": "",
     "output_type": "error",
     "traceback": [
      "\u001b[1;31mThe Kernel crashed while executing code in the the current cell or a previous cell. Please review the code in the cell(s) to identify a possible cause of the failure. Click <a href='https://aka.ms/vscodeJupyterKernelCrash'>here</a> for more info. View Jupyter <a href='command:jupyter.viewOutput'>log</a> for further details."
     ]
    }
   ],
   "source": [
    "# auxiliary graph \n",
    "# g <- make_graph(~ 1--2, 1--3, 1--4, 1--5)\n",
    "# plot(g, \n",
    "#      vertex.label=NA, \n",
    "#      vertex.color=\"green\",\n",
    "#      vertex.size=2,\n",
    "#      edge.color=\"red\",\n",
    "#      edge.width=1)\n",
    "\n",
    "lb_max <- 3\n",
    "N_box <- c()\n",
    "for (lb in 2:lb_max){\n",
    "  # auxiliary graph \n",
    "  h <- delete_edges(g, E(g))\n",
    "  for (v1 in (1:vcount(h))){\n",
    "    nn <- neighbors(graph = h, v = v1)\n",
    "    for (v2 in (1:vcount(h))){\n",
    "      shortest_path <- shortest_paths(g, from = v1, to = v2)$vpath[[1]]\n",
    "      dist_ij <- length(shortest_path)\n",
    "      \n",
    "      if((dist_ij > lb) && !(v2 %in% nn )) {\n",
    "        h <- add_edges(h, edges = c(v1, v2))\n",
    "      }\n",
    "    }\n",
    "  }\n",
    "\n",
    "  # plot(h)\n",
    "\n",
    "\n",
    "  # Box covering: greedy-color \n",
    "  color <- rep(-1, vcount(h))\n",
    "  B <- lapply(1:vcount(h), function(i) neighborhood(h, order = 1, nodes = i))\n",
    "  color[1] <- 0\n",
    "  palette <- 0:(vcount(h)-1)\n",
    "\n",
    "  for (v in V(g)){\n",
    "    v <- as.numeric(v)\n",
    "    if (v == 1){\n",
    "      next\n",
    "    }\n",
    "    else{\n",
    "      neig <- B[[v]][[1]][-1]\n",
    "      col_neig <- color[neig] # (-1,-1,-1)\n",
    "      minimum <- min(palette[!(palette %in% col_neig)])  \n",
    "      color[v] <- minimum\n",
    "    }\n",
    "  }\n",
    "  N_box <- append(N_box, max(color) + 1)\n",
    "}\n",
    "cat(\"Number of boxes =\", N_box, \"\\n\")"
   ]
  },
  {
   "cell_type": "code",
   "execution_count": null,
   "metadata": {
    "vscode": {
     "languageId": "r"
    }
   },
   "outputs": [],
   "source": [
    "# linear fit:\n",
    "# N_b(l_B)/N ~ l_b^(-d_b)\n",
    "# log(N_b(l_B)/N) ~ -d_b*log(l_b)\n",
    "y <- log(N_box/vcount(g))\n",
    "x <- log(2:lb_max)\n",
    "model <- lm(y ~ x)"
   ]
  },
  {
   "cell_type": "code",
   "execution_count": null,
   "metadata": {
    "vscode": {
     "languageId": "r"
    }
   },
   "outputs": [
    {
     "data": {
      "text/plain": [
       "\n",
       "Call:\n",
       "lm(formula = y ~ x)\n",
       "\n",
       "Residuals:\n",
       "       1        2        3        4 \n",
       " 0.02389 -0.21342  0.39049 -0.20095 \n",
       "\n",
       "Coefficients:\n",
       "            Estimate Std. Error t value Pr(>|t|)  \n",
       "(Intercept)   1.7560     0.6281   2.796   0.1077  \n",
       "x            -2.8338     0.5045  -5.617   0.0303 *\n",
       "---\n",
       "Signif. codes:  0 '***' 0.001 '**' 0.01 '*' 0.05 '.' 0.1 ' ' 1\n",
       "\n",
       "Residual standard error: 0.3457 on 2 degrees of freedom\n",
       "Multiple R-squared:  0.9404,\tAdjusted R-squared:  0.9106 \n",
       "F-statistic: 31.55 on 1 and 2 DF,  p-value: 0.03026\n"
      ]
     },
     "metadata": {},
     "output_type": "display_data"
    }
   ],
   "source": [
    "summary(model)"
   ]
  },
  {
   "cell_type": "code",
   "execution_count": null,
   "metadata": {
    "vscode": {
     "languageId": "r"
    }
   },
   "outputs": [
    {
     "data": {
      "image/png": "[encoded data removed]",
      "text/plain": [
       "plot without title"
      ]
     },
     "metadata": {
      "image/png": {
       "height": 420,
       "width": 420
      }
     },
     "output_type": "display_data"
    }
   ],
   "source": [
    "pred <- predict(model, data.frame(x=x))\n",
    "plot(x, y, col = \"black\", pch=16)\n",
    "abline(model, col=\"red\", lty=2, lw=4)"
   ]
  },
  {
   "cell_type": "code",
   "execution_count": 10,
   "metadata": {
    "vscode": {
     "languageId": "r"
    }
   },
   "outputs": [
    {
     "data": {
      "image/png": "[encoded data removed]",
      "text/plain": [
       "Plot with title \"\""
      ]
     },
     "metadata": {
      "image/png": {
       "height": 420,
       "width": 420
      }
     },
     "output_type": "display_data"
    },
    {
     "data": {
      "image/png": "[encoded data removed]",
      "text/plain": [
       "Plot with title \"\""
      ]
     },
     "metadata": {
      "image/png": {
       "height": 420,
       "width": 420
      }
     },
     "output_type": "display_data"
    }
   ],
   "source": [
    "prova_G <- make_graph(~ 1 --4, 1 --5, 2 --3, 2 --5, 3 --6, 4 --5)\n",
    "lb <- 3\n",
    "h <- delete_edges(prova_G, E(prova_G))\n",
    "\n",
    "\n",
    "for (v1 in (1:vcount(h))){\n",
    "  nn <- neighbors(graph = h, v = v1)\n",
    "  for (v2 in (1:vcount(h))){\n",
    "    shortest_path <- shortest_paths(prova_G, from = v1, to = v2)$vpath[[1]]\n",
    "    dist_ij <- length(shortest_path)\n",
    "    \n",
    "    if((dist_ij > lb) && !(v2 %in% nn )) {\n",
    "      h <- add_edges(h, edges = c(v1, v2))\n",
    "    }\n",
    "  }\n",
    "}\n",
    "\n",
    "plot(prova_G)\n",
    "plot(h)"
   ]
  },
  {
   "cell_type": "code",
   "execution_count": 138,
   "metadata": {
    "vscode": {
     "languageId": "r"
    }
   },
   "outputs": [
    {
     "data": {
      "text/plain": [
       "+ 6/6 vertices, named, from 490c9f3:\n",
       "[1] 1 4 5 2 3 6"
      ]
     },
     "metadata": {},
     "output_type": "display_data"
    }
   ],
   "source": [
    "V(prova_G)"
   ]
  },
  {
   "cell_type": "code",
   "execution_count": 11,
   "metadata": {
    "vscode": {
     "languageId": "r"
    }
   },
   "outputs": [],
   "source": [
    "color <- rep(-1, vcount(h))\n",
    "B <- lapply(1:vcount(h), function(i) neighborhood(h, order = 1, nodes = i))\n",
    "# prova_colors <- lapply(B, function(x) unlist(x))\n",
    "color[1] <- 0\n",
    "palette <- 0:(vcount(h)-1)\n",
    "\n",
    "for (v in V(prova_G)){\n",
    "  v <- as.numeric(v)\n",
    "  if (v == 1){\n",
    "    next\n",
    "  }\n",
    "  else{\n",
    "    neig <- B[[v]][[1]][-1]\n",
    "    col_neig <- color[neig] # (-1,-1,-1)\n",
    "    minimum <- min(palette[!(palette %in% col_neig)])  \n",
    "    color[v] <- minimum\n",
    "  }\n",
    "}\n",
    "N_box <- max(color) + 1"
   ]
  },
  {
   "cell_type": "code",
   "execution_count": null,
   "metadata": {
    "vscode": {
     "languageId": "r"
    }
   },
   "outputs": [],
   "source": []
  },
  {
   "cell_type": "code",
   "execution_count": 12,
   "metadata": {
    "vscode": {
     "languageId": "r"
    }
   },
   "outputs": [
    {
     "data": {
      "text/plain": [
       "+ 6/6 vertices, named, from 470d5cb:\n",
       "[1] 1 4 5 2 3 6"
      ]
     },
     "metadata": {},
     "output_type": "display_data"
    },
    {
     "data": {
      "text/html": [
       "<style>\n",
       ".list-inline {list-style: none; margin:0; padding: 0}\n",
       ".list-inline>li {display: inline-block}\n",
       ".list-inline>li:not(:last-child)::after {content: \"\\00b7\"; padding: 0 .5ex}\n",
       "</style>\n",
       "<ol class=list-inline><li>0</li><li>0</li><li>0</li><li>0</li><li>1</li><li>1</li></ol>\n"
      ],
      "text/latex": [
       "\\begin{enumerate*}\n",
       "\\item 0\n",
       "\\item 0\n",
       "\\item 0\n",
       "\\item 0\n",
       "\\item 1\n",
       "\\item 1\n",
       "\\end{enumerate*}\n"
      ],
      "text/markdown": [
       "1. 0\n",
       "2. 0\n",
       "3. 0\n",
       "4. 0\n",
       "5. 1\n",
       "6. 1\n",
       "\n",
       "\n"
      ],
      "text/plain": [
       "[1] 0 0 0 0 1 1"
      ]
     },
     "metadata": {},
     "output_type": "display_data"
    }
   ],
   "source": [
    "V(prova_G); color"
   ]
  },
  {
   "cell_type": "code",
   "execution_count": 136,
   "metadata": {
    "vscode": {
     "languageId": "r"
    }
   },
   "outputs": [
    {
     "data": {
      "text/html": [
       "<style>\n",
       ".list-inline {list-style: none; margin:0; padding: 0}\n",
       ".list-inline>li {display: inline-block}\n",
       ".list-inline>li:not(:last-child)::after {content: \"\\00b7\"; padding: 0 .5ex}\n",
       "</style>\n",
       "<ol class=list-inline><li>0</li><li>-1</li><li>-1</li><li>-1</li><li>-1</li><li>-1</li></ol>\n"
      ],
      "text/latex": [
       "\\begin{enumerate*}\n",
       "\\item 0\n",
       "\\item -1\n",
       "\\item -1\n",
       "\\item -1\n",
       "\\item -1\n",
       "\\item -1\n",
       "\\end{enumerate*}\n"
      ],
      "text/markdown": [
       "1. 0\n",
       "2. -1\n",
       "3. -1\n",
       "4. -1\n",
       "5. -1\n",
       "6. -1\n",
       "\n",
       "\n"
      ],
      "text/plain": [
       "[1]  0 -1 -1 -1 -1 -1"
      ]
     },
     "metadata": {},
     "output_type": "display_data"
    }
   ],
   "source": [
    "V(prova_G)$color"
   ]
  },
  {
   "cell_type": "code",
   "execution_count": 115,
   "metadata": {
    "vscode": {
     "languageId": "r"
    }
   },
   "outputs": [
    {
     "data": {
      "text/plain": [
       "+ 3/5 vertices, named, from 9ea5141:\n",
       "[1] 3 4 5"
      ]
     },
     "metadata": {},
     "output_type": "display_data"
    }
   ],
   "source": [
    "B <- lapply(1:vcount(h), function(i) neighborhood(h, order = 1, nodes = i))\n",
    "B[[2]][[1]][-1]"
   ]
  },
  {
   "cell_type": "code",
   "execution_count": 117,
   "metadata": {
    "vscode": {
     "languageId": "r"
    }
   },
   "outputs": [
    {
     "data": {
      "text/html": [
       "0"
      ],
      "text/latex": [
       "0"
      ],
      "text/markdown": [
       "0"
      ],
      "text/plain": [
       "[1] 0"
      ]
     },
     "metadata": {},
     "output_type": "display_data"
    }
   ],
   "source": [
    "color <- rep(-1, vcount(h))\n",
    "B <- lapply(1:vcount(h), function(i) neighborhood(h, order = 1, nodes = i))\n",
    "# prova_colors <- lapply(B, function(x) unlist(x))\n",
    "color[1] <- 0\n",
    "neig <- B[[2]][[1]][-1]\n",
    "col_neig <- color[neig] # (-1,-1,-1)\n",
    "color[!(color %in% col_neig)]  "
   ]
  },
  {
   "cell_type": "code",
   "execution_count": 119,
   "metadata": {
    "vscode": {
     "languageId": "r"
    }
   },
   "outputs": [
    {
     "data": {
      "text/html": [
       "1"
      ],
      "text/latex": [
       "1"
      ],
      "text/markdown": [
       "1"
      ],
      "text/plain": [
       "[1] 1"
      ]
     },
     "metadata": {},
     "output_type": "display_data"
    }
   ],
   "source": [
    "prova <- c(0,1,2)\n",
    "nei <- c(0)\n",
    "min(prova[!(prova %in% nei)])"
   ]
  },
  {
   "cell_type": "code",
   "execution_count": 109,
   "metadata": {
    "vscode": {
     "languageId": "r"
    }
   },
   "outputs": [
    {
     "data": {
      "text/html": [
       "<ol>\n",
       "\t<li><strong>1:</strong> 10</li>\n",
       "\t<li><style>\n",
       ".dl-inline {width: auto; margin:0; padding: 0}\n",
       ".dl-inline>dt, .dl-inline>dd {float: none; width: auto; display: inline-block}\n",
       ".dl-inline>dt::after {content: \":\\0020\"; padding-right: .5ex}\n",
       ".dl-inline>dt:not(:first-of-type) {padding-left: .5ex}\n",
       "</style><dl class=dl-inline><dt>2</dt><dd>2</dd><dt>3</dt><dd>10</dd><dt>4</dt><dd>11</dd><dt>5</dt><dd>12</dd><dt>5</dt><dd>13</dd></dl>\n",
       "</li>\n",
       "\t<li><style>\n",
       ".dl-inline {width: auto; margin:0; padding: 0}\n",
       ".dl-inline>dt, .dl-inline>dd {float: none; width: auto; display: inline-block}\n",
       ".dl-inline>dt::after {content: \":\\0020\"; padding-right: .5ex}\n",
       ".dl-inline>dt:not(:first-of-type) {padding-left: .5ex}\n",
       "</style><dl class=dl-inline><dt>3</dt><dd>3</dd><dt>2</dt><dd>11</dd><dt>4</dt><dd>10</dd><dt>5</dt><dd>12</dd><dt>5</dt><dd>13</dd></dl>\n",
       "</li>\n",
       "\t<li><style>\n",
       ".dl-inline {width: auto; margin:0; padding: 0}\n",
       ".dl-inline>dt, .dl-inline>dd {float: none; width: auto; display: inline-block}\n",
       ".dl-inline>dt::after {content: \":\\0020\"; padding-right: .5ex}\n",
       ".dl-inline>dt:not(:first-of-type) {padding-left: .5ex}\n",
       "</style><dl class=dl-inline><dt>4</dt><dd>4</dd><dt>2</dt><dd>11</dd><dt>3</dt><dd>12</dd><dt>5</dt><dd>10</dd><dt>5</dt><dd>13</dd></dl>\n",
       "</li>\n",
       "\t<li><style>\n",
       ".dl-inline {width: auto; margin:0; padding: 0}\n",
       ".dl-inline>dt, .dl-inline>dd {float: none; width: auto; display: inline-block}\n",
       ".dl-inline>dt::after {content: \":\\0020\"; padding-right: .5ex}\n",
       ".dl-inline>dt:not(:first-of-type) {padding-left: .5ex}\n",
       "</style><dl class=dl-inline><dt>5</dt><dd>5</dd><dt>2</dt><dd>11</dd><dt>3</dt><dd>12</dd><dt>4</dt><dd>13</dd><dt>5</dt><dd>10</dd></dl>\n",
       "</li>\n",
       "</ol>\n"
      ],
      "text/latex": [
       "\\begin{enumerate}\n",
       "\\item \\textbf{1:} 10\n",
       "\\item \\begin{description*}\n",
       "\\item[2] 2\n",
       "\\item[3] 10\n",
       "\\item[4] 11\n",
       "\\item[5] 12\n",
       "\\item[5] 13\n",
       "\\end{description*}\n",
       "\n",
       "\\item \\begin{description*}\n",
       "\\item[3] 3\n",
       "\\item[2] 11\n",
       "\\item[4] 10\n",
       "\\item[5] 12\n",
       "\\item[5] 13\n",
       "\\end{description*}\n",
       "\n",
       "\\item \\begin{description*}\n",
       "\\item[4] 4\n",
       "\\item[2] 11\n",
       "\\item[3] 12\n",
       "\\item[5] 10\n",
       "\\item[5] 13\n",
       "\\end{description*}\n",
       "\n",
       "\\item \\begin{description*}\n",
       "\\item[5] 5\n",
       "\\item[2] 11\n",
       "\\item[3] 12\n",
       "\\item[4] 13\n",
       "\\item[5] 10\n",
       "\\end{description*}\n",
       "\n",
       "\\end{enumerate}\n"
      ],
      "text/markdown": [
       "1. **1:** 10\n",
       "2. 2\n",
       ":   23\n",
       ":   104\n",
       ":   115\n",
       ":   125\n",
       ":   13\n",
       "\n",
       "\n",
       "3. 3\n",
       ":   32\n",
       ":   114\n",
       ":   105\n",
       ":   125\n",
       ":   13\n",
       "\n",
       "\n",
       "4. 4\n",
       ":   42\n",
       ":   113\n",
       ":   125\n",
       ":   105\n",
       ":   13\n",
       "\n",
       "\n",
       "5. 5\n",
       ":   52\n",
       ":   113\n",
       ":   124\n",
       ":   135\n",
       ":   10\n",
       "\n",
       "\n",
       "\n",
       "\n"
      ],
      "text/plain": [
       "[[1]]\n",
       " 1 \n",
       "10 \n",
       "\n",
       "[[2]]\n",
       " 2  3  4  5    \n",
       " 2 10 11 12 13 \n",
       "\n",
       "[[3]]\n",
       " 3  2  4  5    \n",
       " 3 11 10 12 13 \n",
       "\n",
       "[[4]]\n",
       " 4  2  3  5    \n",
       " 4 11 12 10 13 \n",
       "\n",
       "[[5]]\n",
       " 5  2  3  4    \n",
       " 5 11 12 13 10 \n"
      ]
     },
     "metadata": {},
     "output_type": "display_data"
    }
   ],
   "source": [
    "B[]"
   ]
  },
  {
   "cell_type": "code",
   "execution_count": 86,
   "metadata": {
    "vscode": {
     "languageId": "r"
    }
   },
   "outputs": [
    {
     "data": {
      "text/plain": [
       "[[1]]\n",
       "[[1]][[1]]\n",
       "+ 1/5 vertex, named, from 3e88317:\n",
       "[1] 1\n",
       "\n",
       "\n",
       "[[2]]\n",
       "[[2]][[1]]\n",
       "+ 4/5 vertices, named, from 3e88317:\n",
       "[1] 2 3 4 5\n",
       "\n",
       "\n",
       "[[3]]\n",
       "[[3]][[1]]\n",
       "+ 4/5 vertices, named, from 3e88317:\n",
       "[1] 3 2 4 5\n",
       "\n",
       "\n",
       "[[4]]\n",
       "[[4]][[1]]\n",
       "+ 4/5 vertices, named, from 3e88317:\n",
       "[1] 4 2 3 5\n",
       "\n",
       "\n",
       "[[5]]\n",
       "[[5]][[1]]\n",
       "+ 4/5 vertices, named, from 3e88317:\n",
       "[1] 5 2 3 4\n",
       "\n"
      ]
     },
     "metadata": {},
     "output_type": "display_data"
    }
   ],
   "source": [
    "B"
   ]
  },
  {
   "cell_type": "code",
   "execution_count": 82,
   "metadata": {
    "vscode": {
     "languageId": "r"
    }
   },
   "outputs": [
    {
     "data": {
      "text/html": [
       "<style>\n",
       ".list-inline {list-style: none; margin:0; padding: 0}\n",
       ".list-inline>li {display: inline-block}\n",
       ".list-inline>li:not(:last-child)::after {content: \"\\00b7\"; padding: 0 .5ex}\n",
       "</style>\n",
       "<ol class=list-inline><li>2</li><li>7</li><li>11</li><li>15</li></ol>\n"
      ],
      "text/latex": [
       "\\begin{enumerate*}\n",
       "\\item 2\n",
       "\\item 7\n",
       "\\item 11\n",
       "\\item 15\n",
       "\\end{enumerate*}\n"
      ],
      "text/markdown": [
       "1. 2\n",
       "2. 7\n",
       "3. 11\n",
       "4. 15\n",
       "\n",
       "\n"
      ],
      "text/plain": [
       "[1]  2  7 11 15"
      ]
     },
     "metadata": {},
     "output_type": "display_data"
    }
   ],
   "source": [
    "which(names(prova_colors) == 2, arr.ind = T)"
   ]
  },
  {
   "cell_type": "code",
   "execution_count": 58,
   "metadata": {
    "vscode": {
     "languageId": "r"
    }
   },
   "outputs": [
    {
     "data": {
      "text/html": [
       "<strong>1:</strong> 1"
      ],
      "text/latex": [
       "\\textbf{1:} 1"
      ],
      "text/markdown": [
       "**1:** 1"
      ],
      "text/plain": [
       "1 \n",
       "1 "
      ]
     },
     "metadata": {},
     "output_type": "display_data"
    }
   ],
   "source": [
    "prova_colors <- setNames(unlist(B), names(unlist(B)))\n",
    "prova_colors[which(names(prova_colors) == 1, arr.ind = T)]"
   ]
  },
  {
   "cell_type": "code",
   "execution_count": 64,
   "metadata": {
    "vscode": {
     "languageId": "r"
    }
   },
   "outputs": [
    {
     "data": {
      "text/html": [
       "<style>\n",
       ".list-inline {list-style: none; margin:0; padding: 0}\n",
       ".list-inline>li {display: inline-block}\n",
       ".list-inline>li:not(:last-child)::after {content: \"\\00b7\"; padding: 0 .5ex}\n",
       "</style>\n",
       "<ol class=list-inline><li>FALSE</li><li>TRUE</li><li>FALSE</li><li>FALSE</li><li>FALSE</li><li>FALSE</li><li>TRUE</li><li>FALSE</li><li>FALSE</li><li>FALSE</li><li>TRUE</li><li>FALSE</li><li>FALSE</li><li>FALSE</li><li>TRUE</li><li>FALSE</li><li>FALSE</li></ol>\n"
      ],
      "text/latex": [
       "\\begin{enumerate*}\n",
       "\\item FALSE\n",
       "\\item TRUE\n",
       "\\item FALSE\n",
       "\\item FALSE\n",
       "\\item FALSE\n",
       "\\item FALSE\n",
       "\\item TRUE\n",
       "\\item FALSE\n",
       "\\item FALSE\n",
       "\\item FALSE\n",
       "\\item TRUE\n",
       "\\item FALSE\n",
       "\\item FALSE\n",
       "\\item FALSE\n",
       "\\item TRUE\n",
       "\\item FALSE\n",
       "\\item FALSE\n",
       "\\end{enumerate*}\n"
      ],
      "text/markdown": [
       "1. FALSE\n",
       "2. TRUE\n",
       "3. FALSE\n",
       "4. FALSE\n",
       "5. FALSE\n",
       "6. FALSE\n",
       "7. TRUE\n",
       "8. FALSE\n",
       "9. FALSE\n",
       "10. FALSE\n",
       "11. TRUE\n",
       "12. FALSE\n",
       "13. FALSE\n",
       "14. FALSE\n",
       "15. TRUE\n",
       "16. FALSE\n",
       "17. FALSE\n",
       "\n",
       "\n"
      ],
      "text/plain": [
       " [1] FALSE  TRUE FALSE FALSE FALSE FALSE  TRUE FALSE FALSE FALSE  TRUE FALSE\n",
       "[13] FALSE FALSE  TRUE FALSE FALSE"
      ]
     },
     "metadata": {},
     "output_type": "display_data"
    }
   ],
   "source": [
    "names(prova_colors) == 2"
   ]
  },
  {
   "cell_type": "code",
   "execution_count": 31,
   "metadata": {
    "vscode": {
     "languageId": "r"
    }
   },
   "outputs": [
    {
     "data": {
      "text/html": [
       "1"
      ],
      "text/latex": [
       "1"
      ],
      "text/markdown": [
       "1"
      ],
      "text/plain": [
       "[1] 1"
      ]
     },
     "metadata": {},
     "output_type": "display_data"
    }
   ],
   "source": [
    "as.numeric(V(g)[1])"
   ]
  },
  {
   "cell_type": "code",
   "execution_count": 26,
   "metadata": {
    "vscode": {
     "languageId": "r"
    }
   },
   "outputs": [
    {
     "data": {
      "text/plain": [
       "+ 1/5 vertex, named, from b6e7a1b:\n",
       "[1] 1"
      ]
     },
     "metadata": {},
     "output_type": "display_data"
    }
   ],
   "source": [
    "B[[1]][[1]]"
   ]
  },
  {
   "cell_type": "code",
   "execution_count": 21,
   "metadata": {
    "vscode": {
     "languageId": "r"
    }
   },
   "outputs": [
    {
     "data": {
      "text/plain": [
       "+ 5/5 vertices, named, from d3801b2:\n",
       "[1] 1 2 3 4 5"
      ]
     },
     "metadata": {},
     "output_type": "display_data"
    }
   ],
   "source": [
    "V(g)"
   ]
  },
  {
   "cell_type": "code",
   "execution_count": 15,
   "metadata": {
    "vscode": {
     "languageId": "r"
    }
   },
   "outputs": [
    {
     "data": {
      "text/plain": [
       "+ 21/21 vertices, named, from 327d710:\n",
       " [1] 1  2  3  4  5  6  7  8  9  10 11 12 13 14 15 16 17 18 19 20 21"
      ]
     },
     "metadata": {},
     "output_type": "display_data"
    }
   ],
   "source": [
    "A"
   ]
  },
  {
   "cell_type": "code",
   "execution_count": 11,
   "metadata": {
    "vscode": {
     "languageId": "r"
    }
   },
   "outputs": [
    {
     "data": {
      "text/plain": [
       "[[1]]\n",
       "+ 1/101 vertex, named, from 6397166:\n",
       "[1] 24\n"
      ]
     },
     "metadata": {},
     "output_type": "display_data"
    }
   ],
   "source": [
    "B[[24]]"
   ]
  },
  {
   "cell_type": "code",
   "execution_count": 4,
   "metadata": {
    "vscode": {
     "languageId": "r"
    }
   },
   "outputs": [
    {
     "data": {
      "text/plain": [
       "[[1]]\n",
       "[[1]][[1]]\n",
       "+ 13/21 vertices, named, from 0626eee:\n",
       " [1] 1  2  3  4  5  6  7  8  9  10 11 12 13\n",
       "\n"
      ]
     },
     "metadata": {},
     "output_type": "display_data"
    }
   ],
   "source": []
  },
  {
   "cell_type": "code",
   "execution_count": null,
   "metadata": {
    "vscode": {
     "languageId": "r"
    }
   },
   "outputs": [
    {
     "name": "stdout",
     "output_type": "stream",
     "text": [
      "2 3 4 5 6 7 8 9 10 11 12 13 \n",
      "2 3 4 5 \n",
      "6 7 8 9 10 11 12 13 \n",
      "7 \n",
      "3 \n",
      "neig_p 1 16 17 \n",
      "B_p 1 \n",
      "16 17 \n",
      "17 \n"
     ]
    },
    {
     "data": {
      "image/png": "[encoded data removed]",
      "text/plain": [
       "Plot with title \"\""
      ]
     },
     "metadata": {
      "image/png": {
       "height": 420,
       "width": 420
      }
     },
     "output_type": "display_data"
    }
   ],
   "source": [
    "# 2. Add new neighbours\n",
    "for (node in A[1]) {\n",
    "  neig <- neighbors(g, node)\n",
    "  cat(neig, \"\\n\")\n",
    "  lis <- B[[node]][[1]][-1]\n",
    "  cat(lis, \"\\n\")\n",
    "  new_neig <- neig[!(neig %in% lis)]\n",
    "  cat(new_neig, \"\\n\")\n",
    "  s <- as.integer(sample(new_neig, 1))\n",
    "  cat(s, \"\\n\")\n",
    "  # parent:\n",
    "  p <- as.integer(sample(lis, 1))\n",
    "  cat(p, \"\\n\")\n",
    "  neig_p <- neighbors(g, p)\n",
    "  cat(\"neig_p\", neig_p, \"\\n\")\n",
    "  cat(\"B_p\", B[[p]][[1]][-1], \"\\n\")\n",
    "  new_neig_p <- neig_p[!(neig_p %in% B[[p]][[1]][-1])]\n",
    "  cat(new_neig_p, \"\\n\")\n",
    "  check <- TRUE\n",
    "  while (check){\n",
    "    l <- as.integer(sample(new_neig_p, 1))\n",
    "    if (get.adjacency(g)[s, l] != 1){\n",
    "      check <- FALSE\n",
    "    }\n",
    "  }\n",
    "  cat(l, \"\\n\")\n",
    "  # Add this connection\n",
    "  g <- add_edges(g, edges = c(s, l))\n",
    "}\n",
    "plot(g)\n"
   ]
  },
  {
   "cell_type": "code",
   "execution_count": null,
   "metadata": {
    "vscode": {
     "languageId": "r"
    }
   },
   "outputs": [
    {
     "data": {
      "text/html": [
       "4"
      ],
      "text/latex": [
       "4"
      ],
      "text/markdown": [
       "4"
      ],
      "text/plain": [
       "[1] 4"
      ]
     },
     "metadata": {},
     "output_type": "display_data"
    }
   ],
   "source": [
    "as.integer(p)"
   ]
  },
  {
   "cell_type": "code",
   "execution_count": null,
   "metadata": {
    "vscode": {
     "languageId": "r"
    }
   },
   "outputs": [
    {
     "data": {
      "text/html": [
       "2"
      ],
      "text/latex": [
       "2"
      ],
      "text/markdown": [
       "2"
      ],
      "text/plain": [
       "[1] 2"
      ]
     },
     "metadata": {},
     "output_type": "display_data"
    }
   ],
   "source": [
    "as.integer(A[2])"
   ]
  },
  {
   "cell_type": "code",
   "execution_count": null,
   "metadata": {
    "vscode": {
     "languageId": "r"
    }
   },
   "outputs": [
    {
     "data": {
      "text/plain": [
       "+ 1/? vertex, named (deleted):\n",
       "[1] 1"
      ]
     },
     "metadata": {},
     "output_type": "display_data"
    }
   ],
   "source": [
    "B[[2]][[1]][-1]"
   ]
  },
  {
   "cell_type": "code",
   "execution_count": null,
   "metadata": {
    "vscode": {
     "languageId": "r"
    }
   },
   "outputs": [
    {
     "name": "stderr",
     "output_type": "stream",
     "text": [
      "   [[ suppressing 21 column names '1', '2', '3' ... ]]\n",
      "\n"
     ]
    },
    {
     "data": {
      "text/plain": [
       "21 x 21 sparse Matrix of class \"dgCMatrix\"\n",
       "                                            \n",
       "1  . 1 1 1 1 1 1 1 1 1 1 1 1 . . . . . . . .\n",
       "2  1 . . . . . . . . . . . . 1 1 . . . . . .\n",
       "3  1 . . . . . . . . . . . . . . 1 1 . . . .\n",
       "4  1 . . . . . . . . . . . . . . . . 1 1 . .\n",
       "5  1 . . . . . . . . . . . . . . . . . . 1 1\n",
       "6  1 . . . . . . . . . . . . . . . . . . . .\n",
       "7  1 . . . . . . . . . . . . . . . . . . . .\n",
       "8  1 . . . . . . . . . . . . . . . . . . . .\n",
       "9  1 . . . . . . . . . . . . . . . . . . . .\n",
       "10 1 . . . . . . . . . . . . . . . . . . . .\n",
       "11 1 . . . . . . . . . . . . . . . . . . . .\n",
       "12 1 . . . . . . . . . . . . . . . . . . . .\n",
       "13 1 . . . . . . . . . . . . . . . . . . . .\n",
       "14 . 1 . . . . . . . . . . . . . . . . . . .\n",
       "15 . 1 . . . . . . . . . . . . . . . . . . .\n",
       "16 . . 1 . . . . . . . . . . . . . . . . . .\n",
       "17 . . 1 . . . . . . . . . . . . . . . . . .\n",
       "18 . . . 1 . . . . . . . . . . . . . . . . .\n",
       "19 . . . 1 . . . . . . . . . . . . . . . . .\n",
       "20 . . . . 1 . . . . . . . . . . . . . . . .\n",
       "21 . . . . 1 . . . . . . . . . . . . . . . ."
      ]
     },
     "metadata": {},
     "output_type": "display_data"
    }
   ],
   "source": [
    "get.adjacency(g)[]"
   ]
  },
  {
   "cell_type": "code",
   "execution_count": null,
   "metadata": {
    "vscode": {
     "languageId": "r"
    }
   },
   "outputs": [
    {
     "data": {
      "text/plain": [
       "+ 5/? vertices, named, from bc17022 (deleted):\n",
       "[1] 1 2 3 4 5"
      ]
     },
     "metadata": {},
     "output_type": "display_data"
    }
   ],
   "source": [
    "B[[1]][[1]]"
   ]
  },
  {
   "cell_type": "code",
   "execution_count": null,
   "metadata": {
    "vscode": {
     "languageId": "r"
    }
   },
   "outputs": [
    {
     "data": {
      "text/plain": [
       "+ 5/? vertices, named, from 255de4e (deleted):\n",
       "[1] 1 2 3 4 5"
      ]
     },
     "metadata": {},
     "output_type": "display_data"
    },
    {
     "data": {
      "text/plain": [
       "+ 1/? vertex, named (deleted):\n",
       "[1] 1"
      ]
     },
     "metadata": {},
     "output_type": "display_data"
    }
   ],
   "source": [
    "A; B[[5]][[1]][-1]"
   ]
  },
  {
   "cell_type": "code",
   "execution_count": null,
   "metadata": {
    "vscode": {
     "languageId": "r"
    }
   },
   "outputs": [
    {
     "name": "stdout",
     "output_type": "stream",
     "text": [
      "B = 2 3 4 5 \n",
      "B = 1 \n",
      "B = 1 \n",
      "B = 1 \n",
      "B = 1 \n"
     ]
    },
    {
     "data": {
      "image/png": "[encoded data removed]",
      "text/plain": [
       "Plot with title \"\""
      ]
     },
     "metadata": {
      "image/png": {
       "height": 420,
       "width": 420
      }
     },
     "output_type": "display_data"
    }
   ],
   "source": [
    "g_directed <- set.edge.attribute(g, \"arrow.mode\", index = E(g), value = 1)\n",
    "for (node in A){\n",
    "    cat(\"B =\", B[[node]][[1]][-1], \"\\n\")\n",
    "    for (j in B[[node]][[1]][-1]){\n",
    "        g <- delete_edges(g, j)\n",
    "    }\n",
    "}\n",
    "g_undirected <- set.edge.attribute(g_directed, \"arrow.mode\", index = E(g_directed), value = 0)\n",
    "plot(g_undirected)"
   ]
  },
  {
   "cell_type": "code",
   "execution_count": null,
   "metadata": {
    "vscode": {
     "languageId": "r"
    }
   },
   "outputs": [
    {
     "data": {
      "image/png": "[encoded data removed]",
      "text/plain": [
       "Plot with title \"\""
      ]
     },
     "metadata": {
      "image/png": {
       "height": 420,
       "width": 420
      }
     },
     "output_type": "display_data"
    }
   ],
   "source": [
    "plot(g)"
   ]
  },
  {
   "cell_type": "code",
   "execution_count": null,
   "metadata": {
    "vscode": {
     "languageId": "r"
    }
   },
   "outputs": [
    {
     "data": {
      "text/plain": [
       "[[1]]\n",
       "[[1]][[1]]\n",
       "+ 5/? vertices, named, from bc17022 (deleted):\n",
       "[1] 1 2 3 4 5\n",
       "\n",
       "\n",
       "[[2]]\n",
       "[[2]][[1]]\n",
       "+ 2/? vertices, named, from bc17022 (deleted):\n",
       "[1] 2 1\n",
       "\n",
       "\n",
       "[[3]]\n",
       "[[3]][[1]]\n",
       "+ 2/? vertices, named, from bc17022 (deleted):\n",
       "[1] 3 1\n",
       "\n",
       "\n",
       "[[4]]\n",
       "[[4]][[1]]\n",
       "+ 2/? vertices, named, from bc17022 (deleted):\n",
       "[1] 4 1\n",
       "\n",
       "\n",
       "[[5]]\n",
       "[[5]][[1]]\n",
       "+ 2/? vertices, named, from bc17022 (deleted):\n",
       "[1] 5 1\n",
       "\n"
      ]
     },
     "metadata": {},
     "output_type": "display_data"
    }
   ],
   "source": [
    "B"
   ]
  },
  {
   "cell_type": "code",
   "execution_count": null,
   "metadata": {
    "vscode": {
     "languageId": "r"
    }
   },
   "outputs": [
    {
     "data": {
      "text/plain": [
       "+ 5/? vertices, named, from cf1b420 (deleted):\n",
       "[1] 1 2 3 4 5"
      ]
     },
     "metadata": {},
     "output_type": "display_data"
    }
   ],
   "source": [
    "A"
   ]
  },
  {
   "cell_type": "code",
   "execution_count": null,
   "metadata": {
    "vscode": {
     "languageId": "r"
    }
   },
   "outputs": [
    {
     "data": {
      "text/html": [
       "'21'"
      ],
      "text/latex": [
       "'21'"
      ],
      "text/markdown": [
       "'21'"
      ],
      "text/plain": [
       "[1] \"21\""
      ]
     },
     "metadata": {},
     "output_type": "display_data"
    }
   ],
   "source": [
    "levels(factor(sample(new_neig, 1)))"
   ]
  },
  {
   "cell_type": "code",
   "execution_count": null,
   "metadata": {
    "vscode": {
     "languageId": "r"
    }
   },
   "outputs": [
    {
     "name": "stdout",
     "output_type": "stream",
     "text": [
      "neig = 2 3 4 5 6 7 8 9 10 11 12 13 \n",
      "lis = 2 3 4 5 \n",
      "new_neig = 6 7 8 9 10 11 12 13 \n",
      "s = 7 \n",
      "p = 4 \n",
      "neig_p = 1 18 19 \n",
      "neig = 1 14 15 \n",
      "lis = 1 \n",
      "new_neig = 14 15 \n",
      "s = 15 \n",
      "p = 1 \n",
      "neig_p = 2 3 4 5 6 7 8 9 10 11 12 13 \n",
      "neig = 1 16 17 \n",
      "lis = 1 \n",
      "new_neig = 16 17 \n",
      "s = 17 \n",
      "p = 1 \n",
      "neig_p = 2 3 4 5 6 7 8 9 10 11 12 13 \n",
      "neig = 1 18 19 \n",
      "lis = 1 \n",
      "new_neig = 18 19 \n",
      "s = 18 \n",
      "p = 1 \n",
      "neig_p = 2 3 4 5 6 7 8 9 10 11 12 13 \n",
      "neig = 1 15 20 21 \n",
      "lis = 1 \n",
      "new_neig = 15 20 21 \n",
      "s = 15 \n",
      "p = 1 \n",
      "neig_p = 2 3 4 5 6 7 8 9 10 11 12 13 \n"
     ]
    },
    {
     "data": {
      "image/png": "[encoded data removed]",
      "text/plain": [
       "Plot with title \"\""
      ]
     },
     "metadata": {
      "image/png": {
       "height": 420,
       "width": 420
      }
     },
     "output_type": "display_data"
    }
   ],
   "source": [
    "# 2. Add new neighbours\n",
    "for (node in A) {\n",
    "  neig <- neighbors(g, node)\n",
    "  cat(\"neig =\", neig, \"\\n\")\n",
    "  lis <- B[[node]][[1]][-1]\n",
    "  cat(\"lis =\", lis, \"\\n\")\n",
    "  new_neig <- neig[!(neig %in% lis)]\n",
    "  cat(\"new_neig =\", new_neig, \"\\n\")\n",
    "  s <- levels(factor(sample(new_neig, 1)))\n",
    "  cat(\"s =\", s, \"\\n\")\n",
    "  # parent:\n",
    "  p <- levels(factor(sample(lis, 1)))\n",
    "  cat(\"p =\", p, \"\\n\")\n",
    "  neig_p <- neighbors(g, p)\n",
    "  cat(\"neig_p =\", neig_p, \"\\n\")\n",
    "  new_neig_p <- neig_p[!(neig_p %in% B[[p]][[1]][-1])]\n",
    "  l <- levels(factor(sample(new_neig_p, 1)))\n",
    "  # Add this connection\n",
    "  g <- add_edges(g, edges = c(s, l))\n",
    "}\n",
    "plot(g)"
   ]
  },
  {
   "cell_type": "code",
   "execution_count": null,
   "metadata": {
    "vscode": {
     "languageId": "r"
    }
   },
   "outputs": [
    {
     "data": {
      "text/plain": [
       "+ 1/5 vertex, named, from 365e2eb:\n",
       "[1] 2"
      ]
     },
     "metadata": {},
     "output_type": "display_data"
    },
    {
     "data": {
      "text/html": [
       "1\n",
       "<details>\n",
       "\t<summary style=display:list-item;cursor:pointer>\n",
       "\t\t<strong>Levels</strong>:\n",
       "\t</summary>\n",
       "\t'1'\n",
       "</details>"
      ],
      "text/latex": [
       "1\n",
       "\\emph{Levels}: '1'"
      ],
      "text/markdown": [
       "1\n",
       "**Levels**: '1'"
      ],
      "text/plain": [
       "[1] 1\n",
       "Levels: 1"
      ]
     },
     "metadata": {},
     "output_type": "display_data"
    }
   ],
   "source": [
    "A[sample(A, 1)]; factor(A[sample(A, 1)])[[1]]"
   ]
  },
  {
   "cell_type": "code",
   "execution_count": null,
   "metadata": {
    "vscode": {
     "languageId": "r"
    }
   },
   "outputs": [
    {
     "data": {
      "text/plain": [
       "+ 12/21 vertices, named, from 36648c9:\n",
       " [1] 2  3  4  5  6  7  8  9  10 11 12 13"
      ]
     },
     "metadata": {},
     "output_type": "display_data"
    }
   ],
   "source": [
    "neighbors(g, factor(A[sample(A, 1)]))"
   ]
  },
  {
   "cell_type": "code",
   "execution_count": null,
   "metadata": {
    "vscode": {
     "languageId": "r"
    }
   },
   "outputs": [
    {
     "name": "stdout",
     "output_type": "stream",
     "text": [
      " 'igraph.vs' Named int 1\n",
      " - attr(*, \"names\")= chr \"1\"\n",
      " - attr(*, \"env\")=<environment: 0x00000246236b5d58> \n"
     ]
    }
   ],
   "source": [
    "str(A[1])"
   ]
  },
  {
   "cell_type": "code",
   "execution_count": null,
   "metadata": {
    "vscode": {
     "languageId": "r"
    }
   },
   "outputs": [
    {
     "name": "stdout",
     "output_type": "stream",
     "text": [
      "node = 1 \n",
      "p = 3 \n"
     ]
    },
    {
     "ename": "ERROR",
     "evalue": "Error in if (get_graph_id(graph) != get_vs_graph_id(v)) {: l'argomento ha lunghezza zero\n",
     "output_type": "error",
     "traceback": [
      "Error in if (get_graph_id(graph) != get_vs_graph_id(v)) {: l'argomento ha lunghezza zero\nTraceback:\n",
      "1. cat(neighbors(g, p), \"\\n\")",
      "2. neighbors(g, p)",
      "3. as.igraph.vs(graph, v)"
     ]
    }
   ],
   "source": [
    "for (node in A){\n",
    "    cat(\"node =\", node, \"\\n\")\n",
    "    p <- sample(A, 1)\n",
    "    cat(\"p =\", p, \"\\n\")\n",
    "    cat(neighbors(g, p), \"\\n\")\n",
    "}\n"
   ]
  },
  {
   "cell_type": "code",
   "execution_count": null,
   "metadata": {
    "vscode": {
     "languageId": "r"
    }
   },
   "outputs": [
    {
     "data": {
      "text/plain": [
       "+ 5/? vertices, named, from b143a8a (deleted):\n",
       "[1] 1 2 3 4 5"
      ]
     },
     "metadata": {},
     "output_type": "display_data"
    }
   ],
   "source": [
    "A"
   ]
  },
  {
   "cell_type": "code",
   "execution_count": null,
   "metadata": {
    "vscode": {
     "languageId": "r"
    }
   },
   "outputs": [
    {
     "data": {
      "text/html": [
       "324"
      ],
      "text/latex": [
       "324"
      ],
      "text/markdown": [
       "324"
      ],
      "text/plain": [
       "[1] 324"
      ]
     },
     "metadata": {},
     "output_type": "display_data"
    }
   ],
   "source": [
    "as.integer(degree(g)[1])"
   ]
  },
  {
   "cell_type": "code",
   "execution_count": null,
   "metadata": {
    "vscode": {
     "languageId": "r"
    }
   },
   "outputs": [
    {
     "data": {
      "text/plain": [
       "+ 3/21 vertices, named, from b149fd4:\n",
       "[1] 1  18 19"
      ]
     },
     "metadata": {},
     "output_type": "display_data"
    }
   ],
   "source": [
    "neighbors(g, 4)"
   ]
  },
  {
   "cell_type": "code",
   "execution_count": null,
   "metadata": {
    "vscode": {
     "languageId": "r"
    }
   },
   "outputs": [
    {
     "data": {
      "text/plain": [
       "+ 1/5 vertex, named, from 47db4c1:\n",
       "[1] 1"
      ]
     },
     "metadata": {},
     "output_type": "display_data"
    }
   ],
   "source": [
    "B[[4]][[1]][-1]"
   ]
  },
  {
   "cell_type": "code",
   "execution_count": null,
   "metadata": {
    "vscode": {
     "languageId": "r"
    }
   },
   "outputs": [
    {
     "data": {
      "text/plain": [
       "+ 2/21 vertices, named, from 47e10b1:\n",
       "[1] 18 19"
      ]
     },
     "metadata": {},
     "output_type": "display_data"
    }
   ],
   "source": [
    "neighbors(g, 4)[!(neighbors(g, 4) %in% B[[4]][[1]][-1])]"
   ]
  },
  {
   "cell_type": "code",
   "execution_count": null,
   "metadata": {
    "vscode": {
     "languageId": "r"
    }
   },
   "outputs": [
    {
     "data": {
      "text/plain": [
       "+ 3/21 vertices, named, from 00d19d7:\n",
       "[1] 1  14 15"
      ]
     },
     "metadata": {},
     "output_type": "display_data"
    }
   ],
   "source": [
    "neighbors(g, 2)"
   ]
  },
  {
   "cell_type": "code",
   "execution_count": null,
   "metadata": {
    "vscode": {
     "languageId": "r"
    }
   },
   "outputs": [],
   "source": [
    "neig <- neighbors(g, 1)\n",
    "new_neig <- neig[!(neig %in% B[[1]][[1]][-1])]"
   ]
  },
  {
   "cell_type": "code",
   "execution_count": null,
   "metadata": {
    "vscode": {
     "languageId": "r"
    }
   },
   "outputs": [
    {
     "data": {
      "text/plain": [
       "+ 4/? vertices, named (deleted):\n",
       "[1] 2 3 4 5"
      ]
     },
     "metadata": {},
     "output_type": "display_data"
    }
   ],
   "source": [
    "B[[1]][[1]][-1]"
   ]
  },
  {
   "cell_type": "code",
   "execution_count": null,
   "metadata": {
    "vscode": {
     "languageId": "r"
    }
   },
   "outputs": [
    {
     "data": {
      "text/plain": [
       "+ 12/21 vertices, named, from 8945da6:\n",
       " [1] 2  3  4  5  6  7  8  9  10 11 12 13"
      ]
     },
     "metadata": {},
     "output_type": "display_data"
    }
   ],
   "source": [
    "neig"
   ]
  },
  {
   "cell_type": "code",
   "execution_count": null,
   "metadata": {
    "vscode": {
     "languageId": "r"
    }
   },
   "outputs": [
    {
     "data": {
      "text/plain": [
       "+ 8/21 vertices, named, from 8945da6:\n",
       "[1] 6  7  8  9  10 11 12 13"
      ]
     },
     "metadata": {},
     "output_type": "display_data"
    }
   ],
   "source": [
    "new_neig"
   ]
  },
  {
   "cell_type": "code",
   "execution_count": null,
   "metadata": {
    "vscode": {
     "languageId": "r"
    }
   },
   "outputs": [
    {
     "data": {
      "text/plain": [
       "+ 5/5 vertices, named, from 89415e0:\n",
       "[1] 1 2 3 4 5"
      ]
     },
     "metadata": {},
     "output_type": "display_data"
    }
   ],
   "source": [
    "A"
   ]
  },
  {
   "cell_type": "code",
   "execution_count": null,
   "metadata": {
    "vscode": {
     "languageId": "r"
    }
   },
   "outputs": [
    {
     "data": {
      "text/html": [
       "4"
      ],
      "text/latex": [
       "4"
      ],
      "text/markdown": [
       "4"
      ],
      "text/plain": [
       "[1] 4"
      ]
     },
     "metadata": {},
     "output_type": "display_data"
    }
   ],
   "source": [
    "degree(g)[[1]] # access via [[]] operator"
   ]
  },
  {
   "cell_type": "code",
   "execution_count": null,
   "metadata": {
    "vscode": {
     "languageId": "r"
    }
   },
   "outputs": [
    {
     "data": {
      "text/plain": [
       "+ 12/21 vertices, named, from 8945da6:\n",
       " [1] 2  3  4  5  6  7  8  9  10 11 12 13"
      ]
     },
     "metadata": {},
     "output_type": "display_data"
    }
   ],
   "source": [
    "neighbors(g, 1)"
   ]
  },
  {
   "cell_type": "code",
   "execution_count": null,
   "metadata": {
    "vscode": {
     "languageId": "r"
    }
   },
   "outputs": [
    {
     "data": {
      "text/plain": [
       "+ 5/5 vertices, named, from 95ec768:\n",
       "[1] 1 2 3 4 5"
      ]
     },
     "metadata": {},
     "output_type": "display_data"
    }
   ],
   "source": [
    "A"
   ]
  },
  {
   "cell_type": "code",
   "execution_count": null,
   "metadata": {
    "vscode": {
     "languageId": "r"
    }
   },
   "outputs": [
    {
     "data": {
      "text/plain": [
       "[[1]]\n",
       "[[1]][[1]]\n",
       "+ 5/5 vertices, named, from 95ec768:\n",
       "[1] 1 2 3 4 5\n",
       "\n",
       "\n",
       "[[2]]\n",
       "[[2]][[1]]\n",
       "+ 2/5 vertices, named, from 95ec768:\n",
       "[1] 2 1\n",
       "\n",
       "\n",
       "[[3]]\n",
       "[[3]][[1]]\n",
       "+ 2/5 vertices, named, from 95ec768:\n",
       "[1] 3 1\n",
       "\n",
       "\n",
       "[[4]]\n",
       "[[4]][[1]]\n",
       "+ 2/5 vertices, named, from 95ec768:\n",
       "[1] 4 1\n",
       "\n",
       "\n",
       "[[5]]\n",
       "[[5]][[1]]\n",
       "+ 2/5 vertices, named, from 95ec768:\n",
       "[1] 5 1\n",
       "\n"
      ]
     },
     "metadata": {},
     "output_type": "display_data"
    }
   ],
   "source": [
    "B # to access the neighbours: B[[i]][[i]][i+1]: node that i+1, since the i-th element is the node itself"
   ]
  },
  {
   "cell_type": "code",
   "execution_count": null,
   "metadata": {
    "vscode": {
     "languageId": "r"
    }
   },
   "outputs": [
    {
     "data": {
      "image/png": "[encoded data removed]",
      "text/plain": [
       "Plot with title \"\""
      ]
     },
     "metadata": {
      "image/png": {
       "height": 420,
       "width": 420
      }
     },
     "output_type": "display_data"
    }
   ],
   "source": [
    "plot(g)"
   ]
  },
  {
   "cell_type": "code",
   "execution_count": null,
   "metadata": {
    "vscode": {
     "languageId": "r"
    }
   },
   "outputs": [],
   "source": []
  }
 ],
 "metadata": {
  "kernelspec": {
   "display_name": "R",
   "language": "R",
   "name": "ir"
  },
  "language_info": {
   "codemirror_mode": "r",
   "file_extension": ".r",
   "mimetype": "text/x-r-source",
   "name": "R",
   "pygments_lexer": "r",
   "version": "4.2.2"
  },
  "orig_nbformat": 4
 },
 "nbformat": 4,
 "nbformat_minor": 2
}
